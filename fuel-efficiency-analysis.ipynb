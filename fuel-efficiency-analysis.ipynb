{
 "cells": [
  {
   "cell_type": "markdown",
   "id": "e0d073a8",
   "metadata": {
    "papermill": {
     "duration": 0.042979,
     "end_time": "2021-09-03T18:03:42.623518",
     "exception": false,
     "start_time": "2021-09-03T18:03:42.580539",
     "status": "completed"
    },
    "tags": []
   },
   "source": [
    "# The Relationship between Fuel Efficiency and Fuel Type"
   ]
  },
  {
   "cell_type": "markdown",
   "id": "94b9d5b5",
   "metadata": {
    "papermill": {
     "duration": 0.040271,
     "end_time": "2021-09-03T18:03:42.704442",
     "exception": false,
     "start_time": "2021-09-03T18:03:42.664171",
     "status": "completed"
    },
    "tags": []
   },
   "source": [
    "## Are Gasoline or Diesel-based engines more efficient?\n",
    "Group Members: Blaise Appolinary, Zibo Shang, William Suryawidjaja"
   ]
  },
  {
   "cell_type": "markdown",
   "id": "f6f8e420",
   "metadata": {
    "papermill": {
     "duration": 0.040691,
     "end_time": "2021-09-03T18:03:42.785736",
     "exception": false,
     "start_time": "2021-09-03T18:03:42.745045",
     "status": "completed"
    },
    "tags": []
   },
   "source": [
    "## 1. Introduction"
   ]
  },
  {
   "cell_type": "markdown",
   "id": "92ccf344",
   "metadata": {
    "papermill": {
     "duration": 0.040307,
     "end_time": "2021-09-03T18:03:42.866541",
     "exception": false,
     "start_time": "2021-09-03T18:03:42.826234",
     "status": "completed"
    },
    "tags": []
   },
   "source": [
    "As human civilization expands, metropolitan cities are growing rapidly. As a result, the bigger commuting zone has resulted in the rising demands for a form of transport that is cost-efficient, yet provides a sense of privacy for the passenger; the car. \n",
    "\n",
    "Given that, choosing the right car could be a difficult decision to make, as the car types range from family vehicles like sedans and coupes to the high-end, exotic, sport vehicles. In all car types, however, a critical factor to consider is the fuel efficiency. A more efficient car would allow customers to save money on fuel as well as reduce carbon footprints. \n",
    "\n",
    "According to a research conducted by the Universal Technical Institute, they found that diesel cars have 20% more thermal efficiency than gasoline cars. This would suggest that diesel-based cars are more efficient gasoline-based cars, as the former are able to transfer heat to energy more efficiently. (Baures, 2019; Chevrolet, 2021; Gas vs. Diesel Engines: What’s the Difference?, 2021). As a follow up to this reserach paper, we have decided to investigate this claim by taking a different measure of fuel efficiency, MPG. \n",
    "\n",
    "* MPG (miles per gallon), is defined as the distance (measured in miles) that a vehicle can travel per gallon of fuel. If a car has a high MPG value, it would suggest that the car is more fuel-efficient. \n",
    "\n",
    "For this project, we will be comparing the means as well as the standard deviations of MPG between diesel-based cars and gasoline-based cars, which would allow us to determine which fuel type is more efficient. Our results will be based on a dataset of Vehicle Fuel Economy Estimates, from 1984-2017, obtained from Kaggle."
   ]
  },
  {
   "cell_type": "markdown",
   "id": "9d297b96",
   "metadata": {
    "papermill": {
     "duration": 0.041177,
     "end_time": "2021-09-03T18:03:42.948679",
     "exception": false,
     "start_time": "2021-09-03T18:03:42.907502",
     "status": "completed"
    },
    "tags": []
   },
   "source": [
    "<img src=\"https://raw.githubusercontent.com/Zibo-S/STAT201_GP_7/main/intro_pic_2.png\" width=\"400\" height=\"400\" align=\"center\"/>"
   ]
  },
  {
   "cell_type": "markdown",
   "id": "472726b6",
   "metadata": {
    "papermill": {
     "duration": 0.040588,
     "end_time": "2021-09-03T18:03:43.030152",
     "exception": false,
     "start_time": "2021-09-03T18:03:42.989564",
     "status": "completed"
    },
    "tags": []
   },
   "source": [
    "Fig 1.1 Introduction Picture (*What Is the Difference Between Diesel and Gas? Sweeney Chevrolet. 2021*)"
   ]
  },
  {
   "cell_type": "markdown",
   "id": "942b2325",
   "metadata": {
    "papermill": {
     "duration": 0.040187,
     "end_time": "2021-09-03T18:03:43.110867",
     "exception": false,
     "start_time": "2021-09-03T18:03:43.070680",
     "status": "completed"
    },
    "tags": []
   },
   "source": [
    "## 2. Preliminary Results"
   ]
  },
  {
   "cell_type": "code",
   "execution_count": 1,
   "id": "ac493f97",
   "metadata": {
    "execution": {
     "iopub.execute_input": "2021-09-03T18:03:43.199718Z",
     "iopub.status.busy": "2021-09-03T18:03:43.196988Z",
     "iopub.status.idle": "2021-09-03T18:03:44.856606Z",
     "shell.execute_reply": "2021-09-03T18:03:44.855004Z"
    },
    "papermill": {
     "duration": 1.704624,
     "end_time": "2021-09-03T18:03:44.856820",
     "exception": false,
     "start_time": "2021-09-03T18:03:43.152196",
     "status": "completed"
    },
    "tags": []
   },
   "outputs": [
    {
     "name": "stderr",
     "output_type": "stream",
     "text": [
      "── \u001b[1mAttaching packages\u001b[22m ─────────────────────────────────────── tidyverse 1.3.1 ──\n",
      "\n",
      "\u001b[32m✔\u001b[39m \u001b[34mggplot2\u001b[39m 3.3.4     \u001b[32m✔\u001b[39m \u001b[34mpurrr  \u001b[39m 0.3.4\n",
      "\u001b[32m✔\u001b[39m \u001b[34mtibble \u001b[39m 3.1.2     \u001b[32m✔\u001b[39m \u001b[34mdplyr  \u001b[39m 1.0.7\n",
      "\u001b[32m✔\u001b[39m \u001b[34mtidyr  \u001b[39m 1.1.3     \u001b[32m✔\u001b[39m \u001b[34mstringr\u001b[39m 1.4.0\n",
      "\u001b[32m✔\u001b[39m \u001b[34mreadr  \u001b[39m 1.4.0     \u001b[32m✔\u001b[39m \u001b[34mforcats\u001b[39m 0.5.1\n",
      "\n",
      "── \u001b[1mConflicts\u001b[22m ────────────────────────────────────────── tidyverse_conflicts() ──\n",
      "\u001b[31m✖\u001b[39m \u001b[34mdplyr\u001b[39m::\u001b[32mfilter()\u001b[39m masks \u001b[34mstats\u001b[39m::filter()\n",
      "\u001b[31m✖\u001b[39m \u001b[34mdplyr\u001b[39m::\u001b[32mlag()\u001b[39m    masks \u001b[34mstats\u001b[39m::lag()\n",
      "\n",
      "\n",
      "Attaching package: ‘testthat’\n",
      "\n",
      "\n",
      "The following object is masked from ‘package:dplyr’:\n",
      "\n",
      "    matches\n",
      "\n",
      "\n",
      "The following object is masked from ‘package:purrr’:\n",
      "\n",
      "    is_null\n",
      "\n",
      "\n",
      "The following object is masked from ‘package:tidyr’:\n",
      "\n",
      "    matches\n",
      "\n",
      "\n"
     ]
    }
   ],
   "source": [
    "library(tidyverse)\n",
    "library(infer)\n",
    "#library(datateachr)\n",
    "library(testthat)\n",
    "library(digest)\n",
    "library(broom)\n",
    "#library(cowplot)\n",
    "library(dplyr)\n",
    "options(repr.matrix.max.rows = 6)"
   ]
  },
  {
   "cell_type": "markdown",
   "id": "926d0d67",
   "metadata": {
    "papermill": {
     "duration": 0.043502,
     "end_time": "2021-09-03T18:03:44.943772",
     "exception": false,
     "start_time": "2021-09-03T18:03:44.900270",
     "status": "completed"
    },
    "tags": []
   },
   "source": [
    "### 2.1 Importing the dataset from Kaggle and loading the data into the Jupyter Notebook"
   ]
  },
  {
   "cell_type": "code",
   "execution_count": 2,
   "id": "00b6ed50",
   "metadata": {
    "execution": {
     "iopub.execute_input": "2021-09-03T18:03:45.065576Z",
     "iopub.status.busy": "2021-09-03T18:03:45.033546Z",
     "iopub.status.idle": "2021-09-03T18:03:47.142464Z",
     "shell.execute_reply": "2021-09-03T18:03:47.141070Z"
    },
    "papermill": {
     "duration": 2.156111,
     "end_time": "2021-09-03T18:03:47.142676",
     "exception": false,
     "start_time": "2021-09-03T18:03:44.986565",
     "status": "completed"
    },
    "tags": []
   },
   "outputs": [
    {
     "data": {
      "text/html": [
       "<table class=\"dataframe\">\n",
       "<caption>A data.frame: 6 × 81</caption>\n",
       "<thead>\n",
       "\t<tr><th></th><th scope=col>Vehicle.ID</th><th scope=col>Year</th><th scope=col>Make</th><th scope=col>Model</th><th scope=col>Class</th><th scope=col>Drive</th><th scope=col>Transmission</th><th scope=col>Transmission.Descriptor</th><th scope=col>Engine.Index</th><th scope=col>Engine.Descriptor</th><th scope=col>⋯</th><th scope=col>Hours.to.Charge..AC.240V.</th><th scope=col>Composite.City.MPG</th><th scope=col>Composite.Highway.MPG</th><th scope=col>Composite.Combined.MPG</th><th scope=col>Range..FT1.</th><th scope=col>City.Range..FT1.</th><th scope=col>Highway.Range..FT1.</th><th scope=col>Range..FT2.</th><th scope=col>City.Range..FT2.</th><th scope=col>Highway.Range..FT2.</th></tr>\n",
       "\t<tr><th></th><th scope=col>&lt;int&gt;</th><th scope=col>&lt;int&gt;</th><th scope=col>&lt;chr&gt;</th><th scope=col>&lt;chr&gt;</th><th scope=col>&lt;chr&gt;</th><th scope=col>&lt;chr&gt;</th><th scope=col>&lt;chr&gt;</th><th scope=col>&lt;chr&gt;</th><th scope=col>&lt;int&gt;</th><th scope=col>&lt;chr&gt;</th><th scope=col>⋯</th><th scope=col>&lt;dbl&gt;</th><th scope=col>&lt;int&gt;</th><th scope=col>&lt;int&gt;</th><th scope=col>&lt;int&gt;</th><th scope=col>&lt;int&gt;</th><th scope=col>&lt;dbl&gt;</th><th scope=col>&lt;dbl&gt;</th><th scope=col>&lt;chr&gt;</th><th scope=col>&lt;dbl&gt;</th><th scope=col>&lt;dbl&gt;</th></tr>\n",
       "</thead>\n",
       "<tbody>\n",
       "\t<tr><th scope=row>1</th><td>26587</td><td>1984</td><td>Alfa Romeo</td><td>GT V6 2.5         </td><td>Minicompact Cars           </td><td>             </td><td>Manual 5-Speed   </td><td></td><td>9001</td><td>(FFS)         </td><td>⋯</td><td>0</td><td>0</td><td>0</td><td>0</td><td>0</td><td>0</td><td>0</td><td></td><td>0</td><td>0</td></tr>\n",
       "\t<tr><th scope=row>2</th><td>27705</td><td>1984</td><td>Alfa Romeo</td><td>GT V6 2.5         </td><td>Minicompact Cars           </td><td>             </td><td>Manual 5-Speed   </td><td></td><td>9005</td><td>(FFS) CA model</td><td>⋯</td><td>0</td><td>0</td><td>0</td><td>0</td><td>0</td><td>0</td><td>0</td><td></td><td>0</td><td>0</td></tr>\n",
       "\t<tr><th scope=row>3</th><td>26561</td><td>1984</td><td>Alfa Romeo</td><td>Spider Veloce 2000</td><td>Two Seaters                </td><td>             </td><td>Manual 5-Speed   </td><td></td><td>9002</td><td>(FFS)         </td><td>⋯</td><td>0</td><td>0</td><td>0</td><td>0</td><td>0</td><td>0</td><td>0</td><td></td><td>0</td><td>0</td></tr>\n",
       "\t<tr><th scope=row>4</th><td>27681</td><td>1984</td><td>Alfa Romeo</td><td>Spider Veloce 2000</td><td>Two Seaters                </td><td>             </td><td>Manual 5-Speed   </td><td></td><td>9006</td><td>(FFS) CA model</td><td>⋯</td><td>0</td><td>0</td><td>0</td><td>0</td><td>0</td><td>0</td><td>0</td><td></td><td>0</td><td>0</td></tr>\n",
       "\t<tr><th scope=row>5</th><td>27550</td><td>1984</td><td>AM General</td><td>DJ Po Vehicle 2WD </td><td>Special Purpose Vehicle 2WD</td><td>2-Wheel Drive</td><td>Automatic 3-Speed</td><td></td><td>1830</td><td>(FFS)         </td><td>⋯</td><td>0</td><td>0</td><td>0</td><td>0</td><td>0</td><td>0</td><td>0</td><td></td><td>0</td><td>0</td></tr>\n",
       "\t<tr><th scope=row>6</th><td>28426</td><td>1984</td><td>AM General</td><td>DJ Po Vehicle 2WD </td><td>Special Purpose Vehicle 2WD</td><td>2-Wheel Drive</td><td>Automatic 3-Speed</td><td></td><td>1880</td><td>(FFS) CA model</td><td>⋯</td><td>0</td><td>0</td><td>0</td><td>0</td><td>0</td><td>0</td><td>0</td><td></td><td>0</td><td>0</td></tr>\n",
       "</tbody>\n",
       "</table>\n"
      ],
      "text/latex": [
       "A data.frame: 6 × 81\n",
       "\\begin{tabular}{r|lllllllllllllllllllll}\n",
       "  & Vehicle.ID & Year & Make & Model & Class & Drive & Transmission & Transmission.Descriptor & Engine.Index & Engine.Descriptor & ⋯ & Hours.to.Charge..AC.240V. & Composite.City.MPG & Composite.Highway.MPG & Composite.Combined.MPG & Range..FT1. & City.Range..FT1. & Highway.Range..FT1. & Range..FT2. & City.Range..FT2. & Highway.Range..FT2.\\\\\n",
       "  & <int> & <int> & <chr> & <chr> & <chr> & <chr> & <chr> & <chr> & <int> & <chr> & ⋯ & <dbl> & <int> & <int> & <int> & <int> & <dbl> & <dbl> & <chr> & <dbl> & <dbl>\\\\\n",
       "\\hline\n",
       "\t1 & 26587 & 1984 & Alfa Romeo & GT V6 2.5          & Minicompact Cars            &               & Manual 5-Speed    &  & 9001 & (FFS)          & ⋯ & 0 & 0 & 0 & 0 & 0 & 0 & 0 &  & 0 & 0\\\\\n",
       "\t2 & 27705 & 1984 & Alfa Romeo & GT V6 2.5          & Minicompact Cars            &               & Manual 5-Speed    &  & 9005 & (FFS) CA model & ⋯ & 0 & 0 & 0 & 0 & 0 & 0 & 0 &  & 0 & 0\\\\\n",
       "\t3 & 26561 & 1984 & Alfa Romeo & Spider Veloce 2000 & Two Seaters                 &               & Manual 5-Speed    &  & 9002 & (FFS)          & ⋯ & 0 & 0 & 0 & 0 & 0 & 0 & 0 &  & 0 & 0\\\\\n",
       "\t4 & 27681 & 1984 & Alfa Romeo & Spider Veloce 2000 & Two Seaters                 &               & Manual 5-Speed    &  & 9006 & (FFS) CA model & ⋯ & 0 & 0 & 0 & 0 & 0 & 0 & 0 &  & 0 & 0\\\\\n",
       "\t5 & 27550 & 1984 & AM General & DJ Po Vehicle 2WD  & Special Purpose Vehicle 2WD & 2-Wheel Drive & Automatic 3-Speed &  & 1830 & (FFS)          & ⋯ & 0 & 0 & 0 & 0 & 0 & 0 & 0 &  & 0 & 0\\\\\n",
       "\t6 & 28426 & 1984 & AM General & DJ Po Vehicle 2WD  & Special Purpose Vehicle 2WD & 2-Wheel Drive & Automatic 3-Speed &  & 1880 & (FFS) CA model & ⋯ & 0 & 0 & 0 & 0 & 0 & 0 & 0 &  & 0 & 0\\\\\n",
       "\\end{tabular}\n"
      ],
      "text/markdown": [
       "\n",
       "A data.frame: 6 × 81\n",
       "\n",
       "| <!--/--> | Vehicle.ID &lt;int&gt; | Year &lt;int&gt; | Make &lt;chr&gt; | Model &lt;chr&gt; | Class &lt;chr&gt; | Drive &lt;chr&gt; | Transmission &lt;chr&gt; | Transmission.Descriptor &lt;chr&gt; | Engine.Index &lt;int&gt; | Engine.Descriptor &lt;chr&gt; | ⋯ ⋯ | Hours.to.Charge..AC.240V. &lt;dbl&gt; | Composite.City.MPG &lt;int&gt; | Composite.Highway.MPG &lt;int&gt; | Composite.Combined.MPG &lt;int&gt; | Range..FT1. &lt;int&gt; | City.Range..FT1. &lt;dbl&gt; | Highway.Range..FT1. &lt;dbl&gt; | Range..FT2. &lt;chr&gt; | City.Range..FT2. &lt;dbl&gt; | Highway.Range..FT2. &lt;dbl&gt; |\n",
       "|---|---|---|---|---|---|---|---|---|---|---|---|---|---|---|---|---|---|---|---|---|---|\n",
       "| 1 | 26587 | 1984 | Alfa Romeo | GT V6 2.5          | Minicompact Cars            | <!----> | Manual 5-Speed    | <!----> | 9001 | (FFS)          | ⋯ | 0 | 0 | 0 | 0 | 0 | 0 | 0 | <!----> | 0 | 0 |\n",
       "| 2 | 27705 | 1984 | Alfa Romeo | GT V6 2.5          | Minicompact Cars            | <!----> | Manual 5-Speed    | <!----> | 9005 | (FFS) CA model | ⋯ | 0 | 0 | 0 | 0 | 0 | 0 | 0 | <!----> | 0 | 0 |\n",
       "| 3 | 26561 | 1984 | Alfa Romeo | Spider Veloce 2000 | Two Seaters                 | <!----> | Manual 5-Speed    | <!----> | 9002 | (FFS)          | ⋯ | 0 | 0 | 0 | 0 | 0 | 0 | 0 | <!----> | 0 | 0 |\n",
       "| 4 | 27681 | 1984 | Alfa Romeo | Spider Veloce 2000 | Two Seaters                 | <!----> | Manual 5-Speed    | <!----> | 9006 | (FFS) CA model | ⋯ | 0 | 0 | 0 | 0 | 0 | 0 | 0 | <!----> | 0 | 0 |\n",
       "| 5 | 27550 | 1984 | AM General | DJ Po Vehicle 2WD  | Special Purpose Vehicle 2WD | 2-Wheel Drive | Automatic 3-Speed | <!----> | 1830 | (FFS)          | ⋯ | 0 | 0 | 0 | 0 | 0 | 0 | 0 | <!----> | 0 | 0 |\n",
       "| 6 | 28426 | 1984 | AM General | DJ Po Vehicle 2WD  | Special Purpose Vehicle 2WD | 2-Wheel Drive | Automatic 3-Speed | <!----> | 1880 | (FFS) CA model | ⋯ | 0 | 0 | 0 | 0 | 0 | 0 | 0 | <!----> | 0 | 0 |\n",
       "\n"
      ],
      "text/plain": [
       "  Vehicle.ID Year Make       Model              Class                      \n",
       "1 26587      1984 Alfa Romeo GT V6 2.5          Minicompact Cars           \n",
       "2 27705      1984 Alfa Romeo GT V6 2.5          Minicompact Cars           \n",
       "3 26561      1984 Alfa Romeo Spider Veloce 2000 Two Seaters                \n",
       "4 27681      1984 Alfa Romeo Spider Veloce 2000 Two Seaters                \n",
       "5 27550      1984 AM General DJ Po Vehicle 2WD  Special Purpose Vehicle 2WD\n",
       "6 28426      1984 AM General DJ Po Vehicle 2WD  Special Purpose Vehicle 2WD\n",
       "  Drive         Transmission      Transmission.Descriptor Engine.Index\n",
       "1               Manual 5-Speed                            9001        \n",
       "2               Manual 5-Speed                            9005        \n",
       "3               Manual 5-Speed                            9002        \n",
       "4               Manual 5-Speed                            9006        \n",
       "5 2-Wheel Drive Automatic 3-Speed                         1830        \n",
       "6 2-Wheel Drive Automatic 3-Speed                         1880        \n",
       "  Engine.Descriptor ⋯ Hours.to.Charge..AC.240V. Composite.City.MPG\n",
       "1 (FFS)             ⋯ 0                         0                 \n",
       "2 (FFS) CA model    ⋯ 0                         0                 \n",
       "3 (FFS)             ⋯ 0                         0                 \n",
       "4 (FFS) CA model    ⋯ 0                         0                 \n",
       "5 (FFS)             ⋯ 0                         0                 \n",
       "6 (FFS) CA model    ⋯ 0                         0                 \n",
       "  Composite.Highway.MPG Composite.Combined.MPG Range..FT1. City.Range..FT1.\n",
       "1 0                     0                      0           0               \n",
       "2 0                     0                      0           0               \n",
       "3 0                     0                      0           0               \n",
       "4 0                     0                      0           0               \n",
       "5 0                     0                      0           0               \n",
       "6 0                     0                      0           0               \n",
       "  Highway.Range..FT1. Range..FT2. City.Range..FT2. Highway.Range..FT2.\n",
       "1 0                               0                0                  \n",
       "2 0                               0                0                  \n",
       "3 0                               0                0                  \n",
       "4 0                               0                0                  \n",
       "5 0                               0                0                  \n",
       "6 0                               0                0                  "
      ]
     },
     "metadata": {},
     "output_type": "display_data"
    }
   ],
   "source": [
    "df <- read.csv(\"https://raw.githubusercontent.com/Zibo-S/STAT201_GP_7/main/database.csv\", header = TRUE) \n",
    "     \n",
    "head(df)\n"
   ]
  },
  {
   "cell_type": "markdown",
   "id": "cd638b73",
   "metadata": {
    "papermill": {
     "duration": 0.044439,
     "end_time": "2021-09-03T18:03:47.233388",
     "exception": false,
     "start_time": "2021-09-03T18:03:47.188949",
     "status": "completed"
    },
    "tags": []
   },
   "source": [
    "Fig 1.1 The uncleaned dataset"
   ]
  },
  {
   "cell_type": "markdown",
   "id": "376578a9",
   "metadata": {
    "papermill": {
     "duration": 0.04404,
     "end_time": "2021-09-03T18:03:47.321322",
     "exception": false,
     "start_time": "2021-09-03T18:03:47.277282",
     "status": "completed"
    },
    "tags": []
   },
   "source": [
    "### 2.2 Tidying and Cleaning Up Dataset"
   ]
  },
  {
   "cell_type": "code",
   "execution_count": 3,
   "id": "03038fb4",
   "metadata": {
    "execution": {
     "iopub.execute_input": "2021-09-03T18:03:47.415035Z",
     "iopub.status.busy": "2021-09-03T18:03:47.413432Z",
     "iopub.status.idle": "2021-09-03T18:03:47.444828Z",
     "shell.execute_reply": "2021-09-03T18:03:47.443283Z"
    },
    "papermill": {
     "duration": 0.07963,
     "end_time": "2021-09-03T18:03:47.444982",
     "exception": false,
     "start_time": "2021-09-03T18:03:47.365352",
     "status": "completed"
    },
    "tags": []
   },
   "outputs": [
    {
     "data": {
      "text/plain": [
       "\n",
       "                        CNG                      Diesel \n",
       "                         60                        1014 \n",
       "                Electricity             Gasoline or E85 \n",
       "                        133                        1223 \n",
       "    Gasoline or natural gas         Gasoline or propane \n",
       "                         20                           8 \n",
       "                   Midgrade                     Premium \n",
       "                         77                       10133 \n",
       "    Premium and Electricity  Premium Gas or Electricity \n",
       "                         25                          18 \n",
       "             Premium or E85                     Regular \n",
       "                        122                       25258 \n",
       "Regular Gas and Electricity  Regular Gas or Electricity \n",
       "                         20                           2 "
      ]
     },
     "metadata": {},
     "output_type": "display_data"
    }
   ],
   "source": [
    "table(df %>% select('Fuel.Type'))"
   ]
  },
  {
   "cell_type": "markdown",
   "id": "35292d76",
   "metadata": {
    "execution": {
     "iopub.execute_input": "2021-09-03T17:38:59.737337Z",
     "iopub.status.busy": "2021-09-03T17:38:59.735797Z",
     "iopub.status.idle": "2021-09-03T17:38:59.749132Z"
    },
    "papermill": {
     "duration": 0.045301,
     "end_time": "2021-09-03T18:03:47.535143",
     "exception": false,
     "start_time": "2021-09-03T18:03:47.489842",
     "status": "completed"
    },
    "tags": []
   },
   "source": [
    "Fig 1.2 The fuel type categories and the corresponding number of examples"
   ]
  },
  {
   "cell_type": "markdown",
   "id": "af0ecf6f",
   "metadata": {
    "papermill": {
     "duration": 0.045143,
     "end_time": "2021-09-03T18:03:47.624451",
     "exception": false,
     "start_time": "2021-09-03T18:03:47.579308",
     "status": "completed"
    },
    "tags": []
   },
   "source": [
    "The dataset that we obtained contains a plethora of different Fuel Types. However, for the purpose of the project, we will only be focusing on two categories of Fuel Types, which are \"Diesel\" and \"Gasoline or E85\". There are a several categories of Fuel Types that are marked as \"Gasoline\" cars, but we have specifically chosen the \"Gasoline or E85\" tag as the number of examples in that category are similar in number to the diesel tags (Diesel - 1014 Examples, Gasoline or E85 - 1223). Hence, we will filter the dataset for only the examples that have one of the two Fuel Types.\n",
    "\n",
    "The factors that we are interested in are:\n",
    "- MPG in the City (mean, interquartile): \n",
    "- MPG in the Highway (mean, interquartile);\n",
    "\n",
    "The dataset that we are working with has two different types of MPG, City and Highway, which represents the MPG when driving on the corresponding terrains. We have decided to explore them both. The chosen factors have corresponding columns in the dataset, called City.MPG..FT1 (MPG in the city) in the unit miles and Highway.MPG..FT1 (MPG on the highway) in the unit miles. Hence, we will select only these columns as well as the Fuel.Types column before we move on with the rest of the investigation. We will also rename the columns for simplicity."
   ]
  },
  {
   "cell_type": "code",
   "execution_count": 4,
   "id": "be995553",
   "metadata": {
    "execution": {
     "iopub.execute_input": "2021-09-03T18:03:47.718874Z",
     "iopub.status.busy": "2021-09-03T18:03:47.717439Z",
     "iopub.status.idle": "2021-09-03T18:03:47.759754Z",
     "shell.execute_reply": "2021-09-03T18:03:47.758153Z"
    },
    "papermill": {
     "duration": 0.090966,
     "end_time": "2021-09-03T18:03:47.759911",
     "exception": false,
     "start_time": "2021-09-03T18:03:47.668945",
     "status": "completed"
    },
    "tags": []
   },
   "outputs": [
    {
     "data": {
      "text/html": [
       "<table class=\"dataframe\">\n",
       "<caption>A data.frame: 6 × 3</caption>\n",
       "<thead>\n",
       "\t<tr><th></th><th scope=col>Fuel_Type</th><th scope=col>City_MPG</th><th scope=col>Highway_MPG</th></tr>\n",
       "\t<tr><th></th><th scope=col>&lt;chr&gt;</th><th scope=col>&lt;int&gt;</th><th scope=col>&lt;int&gt;</th></tr>\n",
       "</thead>\n",
       "<tbody>\n",
       "\t<tr><th scope=row>1</th><td>Diesel</td><td>21</td><td>31</td></tr>\n",
       "\t<tr><th scope=row>2</th><td>Diesel</td><td>21</td><td>29</td></tr>\n",
       "\t<tr><th scope=row>3</th><td>Diesel</td><td>21</td><td>31</td></tr>\n",
       "\t<tr><th scope=row>4</th><td>Diesel</td><td>21</td><td>31</td></tr>\n",
       "\t<tr><th scope=row>5</th><td>Diesel</td><td>21</td><td>29</td></tr>\n",
       "\t<tr><th scope=row>6</th><td>Diesel</td><td>21</td><td>31</td></tr>\n",
       "</tbody>\n",
       "</table>\n"
      ],
      "text/latex": [
       "A data.frame: 6 × 3\n",
       "\\begin{tabular}{r|lll}\n",
       "  & Fuel\\_Type & City\\_MPG & Highway\\_MPG\\\\\n",
       "  & <chr> & <int> & <int>\\\\\n",
       "\\hline\n",
       "\t1 & Diesel & 21 & 31\\\\\n",
       "\t2 & Diesel & 21 & 29\\\\\n",
       "\t3 & Diesel & 21 & 31\\\\\n",
       "\t4 & Diesel & 21 & 31\\\\\n",
       "\t5 & Diesel & 21 & 29\\\\\n",
       "\t6 & Diesel & 21 & 31\\\\\n",
       "\\end{tabular}\n"
      ],
      "text/markdown": [
       "\n",
       "A data.frame: 6 × 3\n",
       "\n",
       "| <!--/--> | Fuel_Type &lt;chr&gt; | City_MPG &lt;int&gt; | Highway_MPG &lt;int&gt; |\n",
       "|---|---|---|---|\n",
       "| 1 | Diesel | 21 | 31 |\n",
       "| 2 | Diesel | 21 | 29 |\n",
       "| 3 | Diesel | 21 | 31 |\n",
       "| 4 | Diesel | 21 | 31 |\n",
       "| 5 | Diesel | 21 | 29 |\n",
       "| 6 | Diesel | 21 | 31 |\n",
       "\n"
      ],
      "text/plain": [
       "  Fuel_Type City_MPG Highway_MPG\n",
       "1 Diesel    21       31         \n",
       "2 Diesel    21       29         \n",
       "3 Diesel    21       31         \n",
       "4 Diesel    21       31         \n",
       "5 Diesel    21       29         \n",
       "6 Diesel    21       31         "
      ]
     },
     "metadata": {},
     "output_type": "display_data"
    }
   ],
   "source": [
    "tidy_data <- df %>%\n",
    "       filter(Fuel.Type == \"Diesel\" | Fuel.Type == \"Gasoline or E85\") %>%\n",
    "       select('Fuel.Type','City.MPG..FT1.', 'Highway.MPG..FT1.') %>%\n",
    "       rename(Fuel_Type = Fuel.Type, City_MPG = City.MPG..FT1., Highway_MPG = Highway.MPG..FT1.)\n",
    "head(tidy_data)"
   ]
  },
  {
   "cell_type": "markdown",
   "id": "7cd2bb6e",
   "metadata": {
    "papermill": {
     "duration": 0.04513,
     "end_time": "2021-09-03T18:03:47.850059",
     "exception": false,
     "start_time": "2021-09-03T18:03:47.804929",
     "status": "completed"
    },
    "tags": []
   },
   "source": [
    "### 2.3 Calculating Sample Parameters "
   ]
  },
  {
   "cell_type": "markdown",
   "id": "138b3db2",
   "metadata": {
    "papermill": {
     "duration": 0.044818,
     "end_time": "2021-09-03T18:03:47.939597",
     "exception": false,
     "start_time": "2021-09-03T18:03:47.894779",
     "status": "completed"
    },
    "tags": []
   },
   "source": [
    "To start our analysis, we will calculate the Mean and IQR for each factor that we are interested in."
   ]
  },
  {
   "cell_type": "code",
   "execution_count": 5,
   "id": "edaff665",
   "metadata": {
    "execution": {
     "iopub.execute_input": "2021-09-03T18:03:48.036089Z",
     "iopub.status.busy": "2021-09-03T18:03:48.033921Z",
     "iopub.status.idle": "2021-09-03T18:03:48.071960Z",
     "shell.execute_reply": "2021-09-03T18:03:48.070229Z"
    },
    "papermill": {
     "duration": 0.087631,
     "end_time": "2021-09-03T18:03:48.072112",
     "exception": false,
     "start_time": "2021-09-03T18:03:47.984481",
     "status": "completed"
    },
    "tags": []
   },
   "outputs": [
    {
     "data": {
      "text/html": [
       "<span style=white-space:pre-wrap>'Mean of Diesel in City:  21.2258382642998'</span>"
      ],
      "text/latex": [
       "'Mean of Diesel in City:  21.2258382642998'"
      ],
      "text/markdown": [
       "<span style=white-space:pre-wrap>'Mean of Diesel in City:  21.2258382642998'</span>"
      ],
      "text/plain": [
       "[1] \"Mean of Diesel in City:  21.2258382642998\""
      ]
     },
     "metadata": {},
     "output_type": "display_data"
    },
    {
     "data": {
      "text/html": [
       "<span style=white-space:pre-wrap>'IQR of Diesel in City:  10'</span>"
      ],
      "text/latex": [
       "'IQR of Diesel in City:  10'"
      ],
      "text/markdown": [
       "<span style=white-space:pre-wrap>'IQR of Diesel in City:  10'</span>"
      ],
      "text/plain": [
       "[1] \"IQR of Diesel in City:  10\""
      ]
     },
     "metadata": {},
     "output_type": "display_data"
    }
   ],
   "source": [
    "filtered_data <- tidy_data %>% filter(Fuel_Type == \"Diesel\") %>% select(Fuel_Type, City_MPG)\n",
    "\n",
    "#City_MPG_Mean\n",
    "diesel_mean <- mean(as.numeric(as.vector(filtered_data$City_MPG)))\n",
    "paste(\"Mean of Diesel in City: \",diesel_mean)\n",
    "\n",
    "diesel_IQR <- IQR(as.numeric(as.vector(filtered_data$City_MPG)))\n",
    "paste(\"IQR of Diesel in City: \",diesel_IQR)"
   ]
  },
  {
   "cell_type": "code",
   "execution_count": 6,
   "id": "57c26645",
   "metadata": {
    "execution": {
     "iopub.execute_input": "2021-09-03T18:03:48.171825Z",
     "iopub.status.busy": "2021-09-03T18:03:48.169770Z",
     "iopub.status.idle": "2021-09-03T18:03:48.205456Z",
     "shell.execute_reply": "2021-09-03T18:03:48.203708Z"
    },
    "papermill": {
     "duration": 0.086265,
     "end_time": "2021-09-03T18:03:48.205605",
     "exception": false,
     "start_time": "2021-09-03T18:03:48.119340",
     "status": "completed"
    },
    "tags": []
   },
   "outputs": [
    {
     "data": {
      "text/html": [
       "<span style=white-space:pre-wrap>'Mean of Gasoline in City:  15.4096484055601'</span>"
      ],
      "text/latex": [
       "'Mean of Gasoline in City:  15.4096484055601'"
      ],
      "text/markdown": [
       "<span style=white-space:pre-wrap>'Mean of Gasoline in City:  15.4096484055601'</span>"
      ],
      "text/plain": [
       "[1] \"Mean of Gasoline in City:  15.4096484055601\""
      ]
     },
     "metadata": {},
     "output_type": "display_data"
    },
    {
     "data": {
      "text/html": [
       "<span style=white-space:pre-wrap>'IQR of Gasoline in City:  4'</span>"
      ],
      "text/latex": [
       "'IQR of Gasoline in City:  4'"
      ],
      "text/markdown": [
       "<span style=white-space:pre-wrap>'IQR of Gasoline in City:  4'</span>"
      ],
      "text/plain": [
       "[1] \"IQR of Gasoline in City:  4\""
      ]
     },
     "metadata": {},
     "output_type": "display_data"
    }
   ],
   "source": [
    "filtered_data2 <- tidy_data %>% filter(Fuel_Type == \"Gasoline or E85\") %>% select(Fuel_Type, City_MPG)\n",
    "\n",
    "gasoline_mean <- mean(as.numeric(as.vector(filtered_data2$City_MPG)))\n",
    "paste(\"Mean of Gasoline in City: \",gasoline_mean)\n",
    "\n",
    "gasoline_IQR <- IQR(as.numeric(as.vector(filtered_data2$City_MPG)))\n",
    "paste(\"IQR of Gasoline in City: \",gasoline_IQR)"
   ]
  },
  {
   "cell_type": "code",
   "execution_count": 7,
   "id": "96790c3c",
   "metadata": {
    "execution": {
     "iopub.execute_input": "2021-09-03T18:03:48.306903Z",
     "iopub.status.busy": "2021-09-03T18:03:48.305188Z",
     "iopub.status.idle": "2021-09-03T18:03:48.338917Z",
     "shell.execute_reply": "2021-09-03T18:03:48.337491Z"
    },
    "papermill": {
     "duration": 0.085459,
     "end_time": "2021-09-03T18:03:48.339065",
     "exception": false,
     "start_time": "2021-09-03T18:03:48.253606",
     "status": "completed"
    },
    "tags": []
   },
   "outputs": [
    {
     "data": {
      "text/html": [
       "<span style=white-space:pre-wrap>'Mean of Diesel on Highway:  27.1341222879684'</span>"
      ],
      "text/latex": [
       "'Mean of Diesel on Highway:  27.1341222879684'"
      ],
      "text/markdown": [
       "<span style=white-space:pre-wrap>'Mean of Diesel on Highway:  27.1341222879684'</span>"
      ],
      "text/plain": [
       "[1] \"Mean of Diesel on Highway:  27.1341222879684\""
      ]
     },
     "metadata": {},
     "output_type": "display_data"
    },
    {
     "data": {
      "text/html": [
       "<span style=white-space:pre-wrap>'IQR of Diesel on Highway:  12'</span>"
      ],
      "text/latex": [
       "'IQR of Diesel on Highway:  12'"
      ],
      "text/markdown": [
       "<span style=white-space:pre-wrap>'IQR of Diesel on Highway:  12'</span>"
      ],
      "text/plain": [
       "[1] \"IQR of Diesel on Highway:  12\""
      ]
     },
     "metadata": {},
     "output_type": "display_data"
    }
   ],
   "source": [
    "filtered_data3 <- tidy_data %>% filter(Fuel_Type == \"Diesel\") %>% select(Fuel_Type, Highway_MPG)\n",
    "\n",
    "#City_MPG_Mean\n",
    "diesel_H_mean <- mean(as.numeric(as.vector(filtered_data3$Highway_MPG)))\n",
    "\n",
    "paste(\"Mean of Diesel on Highway: \",diesel_H_mean)\n",
    "\n",
    "diesel_H_IQR <- IQR(as.numeric(as.vector(filtered_data3$Highway_MPG)))\n",
    "paste(\"IQR of Diesel on Highway: \",diesel_H_IQR)"
   ]
  },
  {
   "cell_type": "code",
   "execution_count": 8,
   "id": "a982c25b",
   "metadata": {
    "execution": {
     "iopub.execute_input": "2021-09-03T18:03:48.443574Z",
     "iopub.status.busy": "2021-09-03T18:03:48.441939Z",
     "iopub.status.idle": "2021-09-03T18:03:48.484184Z",
     "shell.execute_reply": "2021-09-03T18:03:48.482624Z"
    },
    "papermill": {
     "duration": 0.095666,
     "end_time": "2021-09-03T18:03:48.484329",
     "exception": false,
     "start_time": "2021-09-03T18:03:48.388663",
     "status": "completed"
    },
    "tags": []
   },
   "outputs": [
    {
     "data": {
      "text/html": [
       "<span style=white-space:pre-wrap>'Mean of Gasoline on Highway:  21.6116107931316'</span>"
      ],
      "text/latex": [
       "'Mean of Gasoline on Highway:  21.6116107931316'"
      ],
      "text/markdown": [
       "<span style=white-space:pre-wrap>'Mean of Gasoline on Highway:  21.6116107931316'</span>"
      ],
      "text/plain": [
       "[1] \"Mean of Gasoline on Highway:  21.6116107931316\""
      ]
     },
     "metadata": {},
     "output_type": "display_data"
    },
    {
     "data": {
      "text/html": [
       "<span style=white-space:pre-wrap>'IQR of Gasoline on Highway:  7'</span>"
      ],
      "text/latex": [
       "'IQR of Gasoline on Highway:  7'"
      ],
      "text/markdown": [
       "<span style=white-space:pre-wrap>'IQR of Gasoline on Highway:  7'</span>"
      ],
      "text/plain": [
       "[1] \"IQR of Gasoline on Highway:  7\""
      ]
     },
     "metadata": {},
     "output_type": "display_data"
    }
   ],
   "source": [
    "filtered_data4 <- tidy_data %>% filter(Fuel_Type == \"Gasoline or E85\") %>% select(Fuel_Type, Highway_MPG)\n",
    "\n",
    "gasoline_H_mean <- mean(as.numeric(as.vector(filtered_data4$Highway_MPG)))\n",
    "\n",
    "paste(\"Mean of Gasoline on Highway: \",gasoline_H_mean)\n",
    "\n",
    "gasoline_H_IQR <- IQR(as.numeric(as.vector(filtered_data4$Highway_MPG)))\n",
    "\n",
    "paste(\"IQR of Gasoline on Highway: \",gasoline_H_IQR)"
   ]
  },
  {
   "cell_type": "code",
   "execution_count": 9,
   "id": "cb3027f6",
   "metadata": {
    "execution": {
     "iopub.execute_input": "2021-09-03T18:03:48.591172Z",
     "iopub.status.busy": "2021-09-03T18:03:48.589330Z",
     "iopub.status.idle": "2021-09-03T18:03:48.620964Z",
     "shell.execute_reply": "2021-09-03T18:03:48.619309Z"
    },
    "papermill": {
     "duration": 0.086218,
     "end_time": "2021-09-03T18:03:48.621127",
     "exception": false,
     "start_time": "2021-09-03T18:03:48.534909",
     "status": "completed"
    },
    "tags": []
   },
   "outputs": [
    {
     "name": "stdout",
     "output_type": "stream",
     "text": [
      "[1] \"Summary of Means as below\"\n"
     ]
    },
    {
     "data": {
      "text/html": [
       "<table class=\"dataframe\">\n",
       "<caption>A tibble: 1 × 4</caption>\n",
       "<thead>\n",
       "\t<tr><th scope=col>Diesel in City</th><th scope=col>Diesel on Highway</th><th scope=col>Gasoline in City</th><th scope=col>Gasoline on Highway</th></tr>\n",
       "\t<tr><th scope=col>&lt;dbl&gt;</th><th scope=col>&lt;dbl&gt;</th><th scope=col>&lt;dbl&gt;</th><th scope=col>&lt;dbl&gt;</th></tr>\n",
       "</thead>\n",
       "<tbody>\n",
       "\t<tr><td>21.22584</td><td>27.13412</td><td>15.40965</td><td>21.61161</td></tr>\n",
       "</tbody>\n",
       "</table>\n"
      ],
      "text/latex": [
       "A tibble: 1 × 4\n",
       "\\begin{tabular}{llll}\n",
       " Diesel in City & Diesel on Highway & Gasoline in City & Gasoline on Highway\\\\\n",
       " <dbl> & <dbl> & <dbl> & <dbl>\\\\\n",
       "\\hline\n",
       "\t 21.22584 & 27.13412 & 15.40965 & 21.61161\\\\\n",
       "\\end{tabular}\n"
      ],
      "text/markdown": [
       "\n",
       "A tibble: 1 × 4\n",
       "\n",
       "| Diesel in City &lt;dbl&gt; | Diesel on Highway &lt;dbl&gt; | Gasoline in City &lt;dbl&gt; | Gasoline on Highway &lt;dbl&gt; |\n",
       "|---|---|---|---|\n",
       "| 21.22584 | 27.13412 | 15.40965 | 21.61161 |\n",
       "\n"
      ],
      "text/plain": [
       "  Diesel in City Diesel on Highway Gasoline in City Gasoline on Highway\n",
       "1 21.22584       27.13412          15.40965         21.61161           "
      ]
     },
     "metadata": {},
     "output_type": "display_data"
    }
   ],
   "source": [
    "summary_means <- tibble(\"Diesel in City\"=diesel_mean , \n",
    "                              \"Diesel on Highway\"=diesel_H_mean, \n",
    "                              \"Gasoline in City\"= gasoline_mean, \n",
    "                              \"Gasoline on Highway\"=gasoline_H_mean\n",
    "                             )\n",
    "print(\"Summary of Means as below\")\n",
    "summary_means"
   ]
  },
  {
   "cell_type": "markdown",
   "id": "6830f46b",
   "metadata": {
    "papermill": {
     "duration": 0.051956,
     "end_time": "2021-09-03T18:03:48.724524",
     "exception": false,
     "start_time": "2021-09-03T18:03:48.672568",
     "status": "completed"
    },
    "tags": []
   },
   "source": [
    "From our calculations, we discovered that the diesel cars outperform better than gasoline cars in terms of efficiency for both the city and the highway MPG. However, we will discuss further why we can't draw a conclusion from here."
   ]
  },
  {
   "cell_type": "code",
   "execution_count": 10,
   "id": "4f8c4f84",
   "metadata": {
    "execution": {
     "iopub.execute_input": "2021-09-03T18:03:48.833887Z",
     "iopub.status.busy": "2021-09-03T18:03:48.832212Z",
     "iopub.status.idle": "2021-09-03T18:03:48.860335Z",
     "shell.execute_reply": "2021-09-03T18:03:48.858925Z"
    },
    "papermill": {
     "duration": 0.083922,
     "end_time": "2021-09-03T18:03:48.860488",
     "exception": false,
     "start_time": "2021-09-03T18:03:48.776566",
     "status": "completed"
    },
    "tags": []
   },
   "outputs": [
    {
     "name": "stdout",
     "output_type": "stream",
     "text": [
      "[1] \"Summary of IQR as below\"\n"
     ]
    },
    {
     "data": {
      "text/html": [
       "<table class=\"dataframe\">\n",
       "<caption>A tibble: 1 × 4</caption>\n",
       "<thead>\n",
       "\t<tr><th scope=col>Diesel in City</th><th scope=col>Diesel on Highway</th><th scope=col>Gasoline in City</th><th scope=col>Gasoline on Highway</th></tr>\n",
       "\t<tr><th scope=col>&lt;dbl&gt;</th><th scope=col>&lt;dbl&gt;</th><th scope=col>&lt;dbl&gt;</th><th scope=col>&lt;dbl&gt;</th></tr>\n",
       "</thead>\n",
       "<tbody>\n",
       "\t<tr><td>10</td><td>12</td><td>4</td><td>7</td></tr>\n",
       "</tbody>\n",
       "</table>\n"
      ],
      "text/latex": [
       "A tibble: 1 × 4\n",
       "\\begin{tabular}{llll}\n",
       " Diesel in City & Diesel on Highway & Gasoline in City & Gasoline on Highway\\\\\n",
       " <dbl> & <dbl> & <dbl> & <dbl>\\\\\n",
       "\\hline\n",
       "\t 10 & 12 & 4 & 7\\\\\n",
       "\\end{tabular}\n"
      ],
      "text/markdown": [
       "\n",
       "A tibble: 1 × 4\n",
       "\n",
       "| Diesel in City &lt;dbl&gt; | Diesel on Highway &lt;dbl&gt; | Gasoline in City &lt;dbl&gt; | Gasoline on Highway &lt;dbl&gt; |\n",
       "|---|---|---|---|\n",
       "| 10 | 12 | 4 | 7 |\n",
       "\n"
      ],
      "text/plain": [
       "  Diesel in City Diesel on Highway Gasoline in City Gasoline on Highway\n",
       "1 10             12                4                7                  "
      ]
     },
     "metadata": {},
     "output_type": "display_data"
    }
   ],
   "source": [
    "summary_IQR <- tibble(\"Diesel in City\"=diesel_IQR , \n",
    "                             \"Diesel on Highway\"=diesel_H_IQR, \n",
    "                              \"Gasoline in City\"= gasoline_IQR, \n",
    "                              \"Gasoline on Highway\"=gasoline_H_IQR\n",
    "                             )\n",
    "print(\"Summary of IQR as below\")\n",
    "summary_IQR"
   ]
  },
  {
   "cell_type": "markdown",
   "id": "877d03b3",
   "metadata": {
    "papermill": {
     "duration": 0.063964,
     "end_time": "2021-09-03T18:03:48.982773",
     "exception": false,
     "start_time": "2021-09-03T18:03:48.918809",
     "status": "completed"
    },
    "tags": []
   },
   "source": [
    "As we can see from the table, diesel has a higher IQR range for both the city and highway MPG values. This result suggests that, although the MPG of diesel cars are better on average, the MPG may vary a lot from diesel car to car. Additionally, as the difference in their means is smaller than the difference in IQR values, it also suggests that some gasoline cars might actually be more efficient than diesel cars."
   ]
  },
  {
   "cell_type": "markdown",
   "id": "5b67e311",
   "metadata": {
    "papermill": {
     "duration": 0.052116,
     "end_time": "2021-09-03T18:03:49.089631",
     "exception": false,
     "start_time": "2021-09-03T18:03:49.037515",
     "status": "completed"
    },
    "tags": []
   },
   "source": [
    "### 2.4 Visualizing the distribution of City MPG and Highway MPG of each group using Histograms\n",
    "*Note, need to add a center line which is the mean of the group"
   ]
  },
  {
   "cell_type": "code",
   "execution_count": 11,
   "id": "08533176",
   "metadata": {
    "execution": {
     "iopub.execute_input": "2021-09-03T18:03:49.199578Z",
     "iopub.status.busy": "2021-09-03T18:03:49.197981Z",
     "iopub.status.idle": "2021-09-03T18:03:49.996943Z",
     "shell.execute_reply": "2021-09-03T18:03:49.995636Z"
    },
    "papermill": {
     "duration": 0.8554,
     "end_time": "2021-09-03T18:03:49.997109",
     "exception": false,
     "start_time": "2021-09-03T18:03:49.141709",
     "status": "completed"
    },
    "tags": []
   },
   "outputs": [
    {
     "name": "stderr",
     "output_type": "stream",
     "text": [
      "Warning message:\n",
      "“Ignoring unknown parameters: binwidth, bins, pad”\n"
     ]
    },
    {
     "data": {
      "image/png": "[encoded data removed]"
     },
     "metadata": {
      "image/png": {
       "height": 480,
       "width": 600
      }
     },
     "output_type": "display_data"
    }
   ],
   "source": [
    "options(repr.plot.width=10, repr.plot.height=8)\n",
    "\n",
    "City_Histogram <- tidy_data %>%\n",
    "     select(Fuel_Type, City_MPG) %>%\n",
    "     ggplot() +\n",
    "     geom_histogram(aes(x= City_MPG ,fill = Fuel_Type),position=\"dodge\", stat=\"count\",color=\"darkblue\")+\n",
    "     geom_vline(aes(xintercept = diesel_mean), color = \"pink\", linetype = 2, lwd = 1)+\n",
    "    annotate(\"text\", x = diesel_mean+3, y = 270, label = \"𝜇_Diesel\", color=\"red\", size=5)+\n",
    "     geom_vline(aes(xintercept = gasoline_mean), color = \"darkblue\", linetype = 2, lwd = 1)+\n",
    "    annotate(\"text\", x = gasoline_mean-3, y = 270, label = \"𝜇_Gasoline\", color=\"blue\", size=5)+\n",
    "     ggtitle(\"Distribution of MPG For Diesel And Gasoline or E85 in City\") + \n",
    "     xlab(\"MPG\") +\n",
    "     ylab(\"Count\") + \n",
    "    theme(text = element_text(size = 15)) +\n",
    "    theme(axis.text.x = element_text(angle = 45, hjust = 1))+\n",
    "    guides(fill=guide_legend(title=\"Fuel Type\"))\n",
    "    \n",
    "City_Histogram"
   ]
  },
  {
   "cell_type": "markdown",
   "id": "3b9dd5ee",
   "metadata": {
    "papermill": {
     "duration": 0.054735,
     "end_time": "2021-09-03T18:03:50.107015",
     "exception": false,
     "start_time": "2021-09-03T18:03:50.052280",
     "status": "completed"
    },
    "tags": []
   },
   "source": [
    "Plot I: *Histogram of the Distribution of MPG For Diesel And Gasoline or E85 In City*"
   ]
  },
  {
   "cell_type": "code",
   "execution_count": 12,
   "id": "12a93fc1",
   "metadata": {
    "execution": {
     "iopub.execute_input": "2021-09-03T18:03:50.221741Z",
     "iopub.status.busy": "2021-09-03T18:03:50.220068Z",
     "iopub.status.idle": "2021-09-03T18:03:50.670976Z",
     "shell.execute_reply": "2021-09-03T18:03:50.670134Z"
    },
    "papermill": {
     "duration": 0.509861,
     "end_time": "2021-09-03T18:03:50.671186",
     "exception": false,
     "start_time": "2021-09-03T18:03:50.161325",
     "status": "completed"
    },
    "tags": []
   },
   "outputs": [
    {
     "name": "stderr",
     "output_type": "stream",
     "text": [
      "Warning message:\n",
      "“Ignoring unknown parameters: binwidth, bins, pad”\n"
     ]
    },
    {
     "data": {
      "image/png": "[encoded data removed]"
     },
     "metadata": {
      "image/png": {
       "height": 480,
       "width": 600
      }
     },
     "output_type": "display_data"
    }
   ],
   "source": [
    "#$df$\"Fuel Type 1\n",
    "Highway_Histogram <- tidy_data %>%\n",
    "     select(Fuel_Type, Highway_MPG) %>%\n",
    "     ggplot() +\n",
    "     geom_histogram(aes(x= Highway_MPG ,fill = Fuel_Type),position=\"dodge\", stat=\"count\",color=\"darkblue\")+\n",
    "     ggtitle(\"Distribution of MPG For Diesel And Gasoline or E85 On Highway \") + \n",
    "     xlab(\"MPG\") +\n",
    "     ylab(\"Count\") + \n",
    "    theme(text = element_text(size = 15)) +\n",
    "    theme(axis.text.x = element_text(angle = 45, hjust = 1))+\n",
    "    geom_vline(aes(xintercept = diesel_H_mean), color = \"pink\", linetype = 2, lwd = 1)+\n",
    "    annotate(\"text\", x = diesel_H_mean+3, y = 200, label = \"𝜇_Diesel\", color=\"red\", size=5)+\n",
    "\n",
    "     geom_vline(aes(xintercept = gasoline_H_mean), color = \"darkblue\", linetype = 2, lwd = 1)+\n",
    "    annotate(\"text\", x = gasoline_H_mean-3, y = 200, label = \"𝜇_Gasoline\", color=\"blue\", size=5)+\n",
    "guides(fill=guide_legend(title=\"Fuel Type\"))\n",
    "Highway_Histogram"
   ]
  },
  {
   "cell_type": "markdown",
   "id": "877e436e",
   "metadata": {
    "papermill": {
     "duration": 0.056667,
     "end_time": "2021-09-03T18:03:50.785212",
     "exception": false,
     "start_time": "2021-09-03T18:03:50.728545",
     "status": "completed"
    },
    "tags": []
   },
   "source": [
    "Plot II: *Histogram of the Distribution of MPG For Diesel And Gasoline or E85 On Highway*"
   ]
  },
  {
   "cell_type": "markdown",
   "id": "5389d74e",
   "metadata": {
    "papermill": {
     "duration": 0.061243,
     "end_time": "2021-09-03T18:03:50.903236",
     "exception": false,
     "start_time": "2021-09-03T18:03:50.841993",
     "status": "completed"
    },
    "tags": []
   },
   "source": [
    "From these histograms, we can see that the distribution of MPG for the diesel and gasoline fuel types are not uniformly distributed; they are unimodal but the distribution is skewed to the right. This is logical as there will be more cars that are less efficient for both fuel types (car manufacturers might focus on lowering the price of the car instead of focusing on efficiency). However, the distribution for the diesel fuel type is much more spread out for both the cases of Highway MPG and City MPG. This observation is captured by the difference in their IQR values. <br>\n",
    "\n",
    "Diesel: (City: 10, Highway: 12) <br>\n",
    "Gasoline: (City: 4, Highway: 7)"
   ]
  },
  {
   "cell_type": "markdown",
   "id": "3797cea5",
   "metadata": {
    "papermill": {
     "duration": 0.065844,
     "end_time": "2021-09-03T18:03:51.043580",
     "exception": false,
     "start_time": "2021-09-03T18:03:50.977736",
     "status": "completed"
    },
    "tags": []
   },
   "source": [
    "## 3. Methods"
   ]
  },
  {
   "cell_type": "markdown",
   "id": "62a6b390",
   "metadata": {
    "papermill": {
     "duration": 0.057182,
     "end_time": "2021-09-03T18:03:51.157889",
     "exception": false,
     "start_time": "2021-09-03T18:03:51.100707",
     "status": "completed"
    },
    "tags": []
   },
   "source": [
    "### 3.1 Need for further investigation"
   ]
  },
  {
   "cell_type": "markdown",
   "id": "08c0c794",
   "metadata": {
    "papermill": {
     "duration": 0.056323,
     "end_time": "2021-09-03T18:03:51.270815",
     "exception": false,
     "start_time": "2021-09-03T18:03:51.214492",
     "status": "completed"
    },
    "tags": []
   },
   "source": [
    "Back when we compared the means of the dataset, we found that the mean of diesel (City: 21, Highway: 27) is higher than the mean of gasoline (City: 15, Highway: 21) in both the city and highway MPG. This would suggest that diesel-based cars are more efficient than gasoline-based cars due to a higher MPG. \n",
    "\n",
    "However, the dataset that we are working with is only a sample of all the diesel and gasoline cars available. Hence, drawing a conclusion here isn’t justified. To explore the dataset further, we will be performing `two sample z-test` hypothesis tests using bootstrap sampling and asymptotic theory in order to get a more robust conclusion. We will also create confidence intervals to quantify the difference"
   ]
  },
  {
   "cell_type": "markdown",
   "id": "96c5bd23",
   "metadata": {
    "papermill": {
     "duration": 0.05649,
     "end_time": "2021-09-03T18:03:51.383820",
     "exception": false,
     "start_time": "2021-09-03T18:03:51.327330",
     "status": "completed"
    },
    "tags": []
   },
   "source": [
    "### 3.2 Assumptions and Hypotheses"
   ]
  },
  {
   "cell_type": "markdown",
   "id": "bccf5502",
   "metadata": {
    "papermill": {
     "duration": 0.056227,
     "end_time": "2021-09-03T18:03:51.496484",
     "exception": false,
     "start_time": "2021-09-03T18:03:51.440257",
     "status": "completed"
    },
    "tags": []
   },
   "source": [
    "An assumption for our hypothesis tests are that the dataset was sampled randomly and each example was independent to one another. This is a fair assumption, as the cars are from different car manufacturers and were produced in different years. As discussed before, our dataset is asymmetrically distributed, which means we would need to have a huge sample size to work with, to have the law of big numbers kick in and utilize a Normal Distribution rather than a t-Distribution. This isn't a problem either, as our dataset has more than 1000 examples for both the diesel and gasoline fuel types. Hence, the approach that we will be taking is justified.\n",
    "\n",
    "We will be performing 2 `two sample z-tests`; the first for the difference in City MPG and the second for the difference in Highway MPG.  In each case, we will test be testing the following null and alternative hypotheses:\n",
    "\n",
    "$H_0$: The difference in mean City MPG between Diesel and Gasoline are the same, $\\mu_{Diesel, City} - \\mu_{Gasoline, City} = 0$. <br>\n",
    "$\\mu_{Diesel, City} = \\mu_{Gasoline, City}$. <br>\n",
    "$H_A$: The difference in mean City MPG between Diesel and Gasoline are different, \n",
    "$\\mu_{Diesel, City} - \\mu_{Gasoline, City} \\neq 0$ <br>\n",
    "$\\mu_{Diesel, City} \\neq \\mu_{Gasoline, City}$. <br>\n",
    "\n",
    "$H_0$: The difference in mean Highway MPG between Diesel and Gasoline are the same, $\\mu_{Diesel, Highway} - \\mu_{Gasoline, Highway} = 0$. <br>\n",
    "$\\mu_{Diesel, Highway} = \\mu_{Gasoline, Highway}$. <br>\n",
    "$H_A$: The difference in mean Highway MPG between Diesel and Gasoline are different, $\\mu_{Diesel, Highway} -\\mu_{Gasoline, Highway} \\neq 0$. <br>\n",
    "$\\mu_{Diesel, Highway} \\neq \\mu_{Gasoline, Highway}$. <br>"
   ]
  },
  {
   "cell_type": "markdown",
   "id": "3acb735a",
   "metadata": {
    "papermill": {
     "duration": 0.056488,
     "end_time": "2021-09-03T18:03:51.609459",
     "exception": false,
     "start_time": "2021-09-03T18:03:51.552971",
     "status": "completed"
    },
    "tags": []
   },
   "source": [
    "### 3.3 Expectations and Further Studies"
   ]
  },
  {
   "cell_type": "markdown",
   "id": "e13f790f",
   "metadata": {
    "papermill": {
     "duration": 0.056549,
     "end_time": "2021-09-03T18:03:51.723843",
     "exception": false,
     "start_time": "2021-09-03T18:03:51.667294",
     "status": "completed"
    },
    "tags": []
   },
   "source": [
    "We expect to find a relation between the factors we have chosen for fuel type and fuel efficiency. From the plot visualization above, we expect diesel fuel has better efficiency on both city roads and highways. \n",
    "\n",
    "Knowing these factors can help a vehicle customer decide the type of car to save money on fuel spending. The report also gives the customer an option to compare the results with their driving habits, whether they drive more city roads or highways (if a car is more efficient on a highway than in the city and vice versa). This result could lead to future questions regarding the generality of the studies as we are only comparing cars from a specific time range and a selected number of gasoline and diesel cars brands. The project can be repeated with a dataset based on more recent cars and a wider variety of car brands."
   ]
  },
  {
   "cell_type": "markdown",
   "id": "a2446665",
   "metadata": {
    "papermill": {
     "duration": 0.056333,
     "end_time": "2021-09-03T18:03:51.836596",
     "exception": false,
     "start_time": "2021-09-03T18:03:51.780263",
     "status": "completed"
    },
    "tags": []
   },
   "source": [
    "## 4. Hypothesis Testing"
   ]
  },
  {
   "cell_type": "markdown",
   "id": "cc959de6",
   "metadata": {
    "papermill": {
     "duration": 0.056456,
     "end_time": "2021-09-03T18:03:51.949675",
     "exception": false,
     "start_time": "2021-09-03T18:03:51.893219",
     "status": "completed"
    },
    "tags": []
   },
   "source": [
    "### 4.1.1 Hypothesis Testing for City MPG, Bootstrap Sampling Method (5% Significance Level)"
   ]
  },
  {
   "cell_type": "markdown",
   "id": "d7edd2ea",
   "metadata": {
    "papermill": {
     "duration": 0.085821,
     "end_time": "2021-09-03T18:03:52.092621",
     "exception": false,
     "start_time": "2021-09-03T18:03:52.006800",
     "status": "completed"
    },
    "tags": []
   },
   "source": [
    "The first method of hypothesis test that we will perform is a null hypothesis simulation by using bootstrap sampling. \n",
    "The bootstrap sample size is 1000, and we calculate the difference in means of the samples. First, we calculate the observed difference in means between Diesel and Gasoline fuel efficiency and store it in the variable `obs_diff_means`."
   ]
  },
  {
   "cell_type": "code",
   "execution_count": 13,
   "id": "4a69ba7c",
   "metadata": {
    "execution": {
     "iopub.execute_input": "2021-09-03T18:03:52.212887Z",
     "iopub.status.busy": "2021-09-03T18:03:52.211057Z",
     "iopub.status.idle": "2021-09-03T18:03:52.293592Z",
     "shell.execute_reply": "2021-09-03T18:03:52.292079Z"
    },
    "papermill": {
     "duration": 0.144303,
     "end_time": "2021-09-03T18:03:52.293767",
     "exception": false,
     "start_time": "2021-09-03T18:03:52.149464",
     "status": "completed"
    },
    "tags": []
   },
   "outputs": [
    {
     "name": "stdout",
     "output_type": "stream",
     "text": [
      "The observed difference in means is  5.81619"
     ]
    }
   ],
   "source": [
    "obs_diff_means <- tidy_data %>% \n",
    "    select(-Highway_MPG) %>%\n",
    "    specify(City_MPG~Fuel_Type) %>% \n",
    "    calculate(stat = \"diff in means\",order= c( \"Diesel\", \"Gasoline or E85\"))%>%\n",
    "    as.numeric()\n",
    "cat(\"The observed difference in means is \",obs_diff_means)"
   ]
  },
  {
   "cell_type": "markdown",
   "id": "f2d4fe43",
   "metadata": {
    "papermill": {
     "duration": 0.058483,
     "end_time": "2021-09-03T18:03:52.409873",
     "exception": false,
     "start_time": "2021-09-03T18:03:52.351390",
     "status": "completed"
    },
    "tags": []
   },
   "source": [
    "To create the null model, we will obtain bootstrap samples of diesel and gasoline fuel types separately, and calculate the difference in means of each sample. AS our $H_0$ states that the difference in means is 0, we will recenter the null distribution to 0."
   ]
  },
  {
   "cell_type": "code",
   "execution_count": 14,
   "id": "4e9dd2b8",
   "metadata": {
    "execution": {
     "iopub.execute_input": "2021-09-03T18:03:52.541003Z",
     "iopub.status.busy": "2021-09-03T18:03:52.530189Z",
     "iopub.status.idle": "2021-09-03T18:03:53.462614Z",
     "shell.execute_reply": "2021-09-03T18:03:53.460747Z"
    },
    "papermill": {
     "duration": 0.995138,
     "end_time": "2021-09-03T18:03:53.462794",
     "exception": false,
     "start_time": "2021-09-03T18:03:52.467656",
     "status": "completed"
    },
    "tags": []
   },
   "outputs": [
    {
     "data": {
      "text/html": [
       "<table class=\"dataframe\">\n",
       "<caption>A tibble: 1000 × 2</caption>\n",
       "<thead>\n",
       "\t<tr><th scope=col>replicate</th><th scope=col>diff</th></tr>\n",
       "\t<tr><th scope=col>&lt;int&gt;</th><th scope=col>&lt;dbl&gt;</th></tr>\n",
       "</thead>\n",
       "<tbody>\n",
       "\t<tr><td>1</td><td>-0.1335667</td></tr>\n",
       "\t<tr><td>2</td><td>-0.2070748</td></tr>\n",
       "\t<tr><td>3</td><td>-0.1106593</td></tr>\n",
       "\t<tr><td>⋮</td><td>⋮</td></tr>\n",
       "\t<tr><td> 998</td><td>-0.045072178</td></tr>\n",
       "\t<tr><td> 999</td><td> 0.002908585</td></tr>\n",
       "\t<tr><td>1000</td><td> 0.265460172</td></tr>\n",
       "</tbody>\n",
       "</table>\n"
      ],
      "text/latex": [
       "A tibble: 1000 × 2\n",
       "\\begin{tabular}{ll}\n",
       " replicate & diff\\\\\n",
       " <int> & <dbl>\\\\\n",
       "\\hline\n",
       "\t 1 & -0.1335667\\\\\n",
       "\t 2 & -0.2070748\\\\\n",
       "\t 3 & -0.1106593\\\\\n",
       "\t ⋮ & ⋮\\\\\n",
       "\t  998 & -0.045072178\\\\\n",
       "\t  999 &  0.002908585\\\\\n",
       "\t 1000 &  0.265460172\\\\\n",
       "\\end{tabular}\n"
      ],
      "text/markdown": [
       "\n",
       "A tibble: 1000 × 2\n",
       "\n",
       "| replicate &lt;int&gt; | diff &lt;dbl&gt; |\n",
       "|---|---|\n",
       "| 1 | -0.1335667 |\n",
       "| 2 | -0.2070748 |\n",
       "| 3 | -0.1106593 |\n",
       "| ⋮ | ⋮ |\n",
       "|  998 | -0.045072178 |\n",
       "|  999 |  0.002908585 |\n",
       "| 1000 |  0.265460172 |\n",
       "\n"
      ],
      "text/plain": [
       "     replicate diff        \n",
       "1    1         -0.1335667  \n",
       "2    2         -0.2070748  \n",
       "3    3         -0.1106593  \n",
       "⋮    ⋮         ⋮           \n",
       "998   998      -0.045072178\n",
       "999   999       0.002908585\n",
       "1000 1000       0.265460172"
      ]
     },
     "metadata": {},
     "output_type": "display_data"
    }
   ],
   "source": [
    "diesel_data <- tidy_data %>% filter(Fuel_Type == \"Diesel\")\n",
    "gasoline_data <- tidy_data %>% filter(Fuel_Type == \"Gasoline or E85\")\n",
    "samp_diesel <- diesel_data %>% \n",
    "                specify(response = City_MPG) %>%\n",
    "                generate(type = \"bootstrap\", reps = 1000) %>%\n",
    "                calculate(stat = \"mean\")\n",
    "samp_gasoline <- gasoline_data %>% \n",
    "                specify(response = City_MPG) %>%\n",
    "                generate(type = \"bootstrap\", reps = 1000) %>%\n",
    "                calculate(stat = \"mean\")\n",
    "null_model_manual <- samp_diesel %>% inner_join(samp_gasoline, by = \"replicate\")\n",
    "null_model_manual <- null_model_manual %>% mutate(diff = stat.x - stat.y) %>% select(replicate, diff)\n",
    "null_model_manual <- null_model_manual %>% mutate(diff = diff + (0 - obs_diff_means))\n",
    "\n",
    "null_model_manual"
   ]
  },
  {
   "cell_type": "markdown",
   "id": "b242963d",
   "metadata": {
    "papermill": {
     "duration": 0.061297,
     "end_time": "2021-09-03T18:03:53.584141",
     "exception": false,
     "start_time": "2021-09-03T18:03:53.522844",
     "status": "completed"
    },
    "tags": []
   },
   "source": [
    "After acquiring the bootstrap samples, we will visualize the distribution of the difference in means by plotting a histogram. We will also add a line to show the observed difference as compared to our null distribution."
   ]
  },
  {
   "cell_type": "code",
   "execution_count": 15,
   "id": "2ea4c2fe",
   "metadata": {
    "execution": {
     "iopub.execute_input": "2021-09-03T18:03:53.710137Z",
     "iopub.status.busy": "2021-09-03T18:03:53.708119Z",
     "iopub.status.idle": "2021-09-03T18:03:54.038530Z",
     "shell.execute_reply": "2021-09-03T18:03:54.036755Z"
    },
    "papermill": {
     "duration": 0.394305,
     "end_time": "2021-09-03T18:03:54.038734",
     "exception": false,
     "start_time": "2021-09-03T18:03:53.644429",
     "status": "completed"
    },
    "tags": []
   },
   "outputs": [
    {
     "data": {
      "image/png": "[encoded data removed]"
     },
     "metadata": {
      "image/png": {
       "height": 480,
       "width": 600
      }
     },
     "output_type": "display_data"
    }
   ],
   "source": [
    "dist_plot_manual <- null_model_manual %>%\n",
    "                    ggplot() + \n",
    "                    geom_histogram(aes(x=diff), bins=100) +\n",
    "                    xlab(\"Difference in means\")+\n",
    "                    ggtitle(\"Distribution of bootstrap sampling under the null hypothesis\")+\n",
    "                    geom_vline(xintercept = obs_diff_means, color = \"red\", alpha = .3, lwd = 2) \n",
    "dist_plot_manual"
   ]
  },
  {
   "cell_type": "markdown",
   "id": "12796146",
   "metadata": {
    "papermill": {
     "duration": 0.060471,
     "end_time": "2021-09-03T18:03:54.161352",
     "exception": false,
     "start_time": "2021-09-03T18:03:54.100881",
     "status": "completed"
    },
    "tags": []
   },
   "source": [
    "From the plot above, we see that the observed mean difference is very unlikely under the null hypothesis. We will quantify the likelihood of the observed difference to happen under the null hypothesis by getting the p value and storing it in the variable `p_value`."
   ]
  },
  {
   "cell_type": "code",
   "execution_count": 16,
   "id": "24f9554f",
   "metadata": {
    "execution": {
     "iopub.execute_input": "2021-09-03T18:03:54.286985Z",
     "iopub.status.busy": "2021-09-03T18:03:54.285633Z",
     "iopub.status.idle": "2021-09-03T18:03:54.302990Z",
     "shell.execute_reply": "2021-09-03T18:03:54.301492Z"
    },
    "papermill": {
     "duration": 0.081338,
     "end_time": "2021-09-03T18:03:54.303148",
     "exception": false,
     "start_time": "2021-09-03T18:03:54.221810",
     "status": "completed"
    },
    "tags": []
   },
   "outputs": [
    {
     "name": "stdout",
     "output_type": "stream",
     "text": [
      "The P value is  0"
     ]
    }
   ],
   "source": [
    "p_value <- 2 * mean(null_model_manual$diff > obs_diff_means)\n",
    "cat(\"The P value is \",p_value)"
   ]
  },
  {
   "cell_type": "markdown",
   "id": "d88e257a",
   "metadata": {
    "papermill": {
     "duration": 0.06147,
     "end_time": "2021-09-03T18:03:54.424591",
     "exception": false,
     "start_time": "2021-09-03T18:03:54.363121",
     "status": "completed"
    },
    "tags": []
   },
   "source": [
    "Because we obtained a p-value of 0, we will report the p-value as <0.001 as it is very unlikely to obtain a p-value of 0. As the p value we obtained is much smaller than our significance level, we have enough evidence to reject the null hypothesis. Therefore, we conclude that the fuel efficiency of gasoline cars is different to that of diesel cars in the city."
   ]
  },
  {
   "cell_type": "markdown",
   "id": "6b828d15",
   "metadata": {
    "papermill": {
     "duration": 0.061359,
     "end_time": "2021-09-03T18:03:54.547333",
     "exception": false,
     "start_time": "2021-09-03T18:03:54.485974",
     "status": "completed"
    },
    "tags": []
   },
   "source": [
    "### 4.1.2 Hypothesis Testing for City MPG, Asymptotic Method (5% Significance Level)"
   ]
  },
  {
   "cell_type": "markdown",
   "id": "9e74abcb",
   "metadata": {
    "papermill": {
     "duration": 0.060679,
     "end_time": "2021-09-03T18:03:54.667900",
     "exception": false,
     "start_time": "2021-09-03T18:03:54.607221",
     "status": "completed"
    },
    "tags": []
   },
   "source": [
    "To confirm the results that we obtained in the previous section, we will be repeating the hypothesis test, but this time, using the build in `t.test()` function. As our dataset is big, using the t distribution will be similar to a normal distribution, and hence wouldn't alter our results by a significant amount."
   ]
  },
  {
   "cell_type": "code",
   "execution_count": 17,
   "id": "1b96338a",
   "metadata": {
    "execution": {
     "iopub.execute_input": "2021-09-03T18:03:54.793993Z",
     "iopub.status.busy": "2021-09-03T18:03:54.792764Z",
     "iopub.status.idle": "2021-09-03T18:03:54.820548Z",
     "shell.execute_reply": "2021-09-03T18:03:54.819017Z"
    },
    "papermill": {
     "duration": 0.093163,
     "end_time": "2021-09-03T18:03:54.820725",
     "exception": false,
     "start_time": "2021-09-03T18:03:54.727562",
     "status": "completed"
    },
    "tags": []
   },
   "outputs": [
    {
     "name": "stdout",
     "output_type": "stream",
     "text": [
      "The P value is  3.997089e-130"
     ]
    }
   ],
   "source": [
    "xc_data <- tidy_data %>% filter(Fuel_Type == \"Diesel\") %>% pull(as.numeric(City_MPG))\n",
    "yc_data <- tidy_data %>% filter(Fuel_Type == \"Gasoline or E85\") %>% pull(as.numeric(City_MPG))\n",
    "city_test <- tidy(\n",
    "            t.test(x = xc_data, \n",
    "                   y = yc_data,\n",
    "                   alternative = \"two.sided\", conf.level = 0.9))\n",
    "#cat(\"Below is a summary table of the two sample t-test conducted\")\n",
    "#city_test\n",
    "\n",
    "cat(\"The P value is \", city_test$p.value)"
   ]
  },
  {
   "cell_type": "code",
   "execution_count": 18,
   "id": "7dd8f93b",
   "metadata": {
    "execution": {
     "iopub.execute_input": "2021-09-03T18:03:54.954858Z",
     "iopub.status.busy": "2021-09-03T18:03:54.953114Z",
     "iopub.status.idle": "2021-09-03T18:03:54.976530Z",
     "shell.execute_reply": "2021-09-03T18:03:54.974948Z"
    },
    "papermill": {
     "duration": 0.094263,
     "end_time": "2021-09-03T18:03:54.976710",
     "exception": false,
     "start_time": "2021-09-03T18:03:54.882447",
     "status": "completed"
    },
    "tags": []
   },
   "outputs": [
    {
     "data": {
      "text/html": [
       "<table class=\"dataframe\">\n",
       "<caption>A tibble: 1 × 10</caption>\n",
       "<thead>\n",
       "\t<tr><th scope=col>estimate</th><th scope=col>estimate1</th><th scope=col>estimate2</th><th scope=col>statistic</th><th scope=col>p.value</th><th scope=col>parameter</th><th scope=col>conf.low</th><th scope=col>conf.high</th><th scope=col>method</th><th scope=col>alternative</th></tr>\n",
       "\t<tr><th scope=col>&lt;dbl&gt;</th><th scope=col>&lt;dbl&gt;</th><th scope=col>&lt;dbl&gt;</th><th scope=col>&lt;dbl&gt;</th><th scope=col>&lt;dbl&gt;</th><th scope=col>&lt;dbl&gt;</th><th scope=col>&lt;dbl&gt;</th><th scope=col>&lt;dbl&gt;</th><th scope=col>&lt;chr&gt;</th><th scope=col>&lt;chr&gt;</th></tr>\n",
       "</thead>\n",
       "<tbody>\n",
       "\t<tr><td>5.81619</td><td>21.22584</td><td>15.40965</td><td>26.98404</td><td>3.997089e-130</td><td>1439.726</td><td>5.461427</td><td>6.170953</td><td>Welch Two Sample t-test</td><td>two.sided</td></tr>\n",
       "</tbody>\n",
       "</table>\n"
      ],
      "text/latex": [
       "A tibble: 1 × 10\n",
       "\\begin{tabular}{llllllllll}\n",
       " estimate & estimate1 & estimate2 & statistic & p.value & parameter & conf.low & conf.high & method & alternative\\\\\n",
       " <dbl> & <dbl> & <dbl> & <dbl> & <dbl> & <dbl> & <dbl> & <dbl> & <chr> & <chr>\\\\\n",
       "\\hline\n",
       "\t 5.81619 & 21.22584 & 15.40965 & 26.98404 & 3.997089e-130 & 1439.726 & 5.461427 & 6.170953 & Welch Two Sample t-test & two.sided\\\\\n",
       "\\end{tabular}\n"
      ],
      "text/markdown": [
       "\n",
       "A tibble: 1 × 10\n",
       "\n",
       "| estimate &lt;dbl&gt; | estimate1 &lt;dbl&gt; | estimate2 &lt;dbl&gt; | statistic &lt;dbl&gt; | p.value &lt;dbl&gt; | parameter &lt;dbl&gt; | conf.low &lt;dbl&gt; | conf.high &lt;dbl&gt; | method &lt;chr&gt; | alternative &lt;chr&gt; |\n",
       "|---|---|---|---|---|---|---|---|---|---|\n",
       "| 5.81619 | 21.22584 | 15.40965 | 26.98404 | 3.997089e-130 | 1439.726 | 5.461427 | 6.170953 | Welch Two Sample t-test | two.sided |\n",
       "\n"
      ],
      "text/plain": [
       "  estimate estimate1 estimate2 statistic p.value       parameter conf.low\n",
       "1 5.81619  21.22584  15.40965  26.98404  3.997089e-130 1439.726  5.461427\n",
       "  conf.high method                  alternative\n",
       "1 6.170953  Welch Two Sample t-test two.sided  "
      ]
     },
     "metadata": {},
     "output_type": "display_data"
    }
   ],
   "source": [
    "city_test"
   ]
  },
  {
   "cell_type": "markdown",
   "id": "b7d618ef",
   "metadata": {
    "papermill": {
     "duration": 0.062769,
     "end_time": "2021-09-03T18:03:55.100213",
     "exception": false,
     "start_time": "2021-09-03T18:03:55.037444",
     "status": "completed"
    },
    "tags": []
   },
   "source": [
    "Table 4.1: Summary of Two Sampled T Test for City MPG"
   ]
  },
  {
   "cell_type": "markdown",
   "id": "9e6a1c4d",
   "metadata": {
    "papermill": {
     "duration": 0.061261,
     "end_time": "2021-09-03T18:03:55.222858",
     "exception": false,
     "start_time": "2021-09-03T18:03:55.161597",
     "status": "completed"
    },
    "tags": []
   },
   "source": [
    "From the test conducted above,  we again obtained a `p-value` that is smaller than the significance level. Therefore, we have enough evidence to reject the null hypothesis and conclude that the city's MPG means on diesel and gasoline are not the same. \n",
    "\n",
    "In the previous method (Bootstrapping), we obtained a p-value that is exactly 0, but this is probably because R has rounded it up, which makes sense as the exact p-value is very small. Bootstrapping is still prone to sampling variation whereas the asymptotic method isn’t. On top of that, bootstrapping is expensive as it requires sampling a lot of times. In addition, we are able to calculated a more precise value which is very small in comparison. As our dataset satisfies all the assumptions for CLT, using the asymptotic theory would be preferrable. But, in conclusion, the results obtained through asymptotics agree with the ones obtained through bootstrapping."
   ]
  },
  {
   "cell_type": "markdown",
   "id": "f342817b",
   "metadata": {
    "papermill": {
     "duration": 0.061212,
     "end_time": "2021-09-03T18:03:55.344445",
     "exception": false,
     "start_time": "2021-09-03T18:03:55.283233",
     "status": "completed"
    },
    "tags": []
   },
   "source": [
    "### 4.2 Hypothesis Testing for Highway MPG, Asymptotic Method (5% Significance Level)"
   ]
  },
  {
   "cell_type": "markdown",
   "id": "3025a4ea",
   "metadata": {
    "papermill": {
     "duration": 0.060162,
     "end_time": "2021-09-03T18:03:55.465104",
     "exception": false,
     "start_time": "2021-09-03T18:03:55.404942",
     "status": "completed"
    },
    "tags": []
   },
   "source": [
    "Similarly, we will repeat the same hypothesis as before, but for the HighwayMPG variable this time around. For the sake of a more precise value, we will be using the t.test() function as we did before."
   ]
  },
  {
   "cell_type": "code",
   "execution_count": 19,
   "id": "db7fff34",
   "metadata": {
    "execution": {
     "iopub.execute_input": "2021-09-03T18:03:55.592214Z",
     "iopub.status.busy": "2021-09-03T18:03:55.590574Z",
     "iopub.status.idle": "2021-09-03T18:03:55.617013Z",
     "shell.execute_reply": "2021-09-03T18:03:55.615579Z"
    },
    "papermill": {
     "duration": 0.091473,
     "end_time": "2021-09-03T18:03:55.617163",
     "exception": false,
     "start_time": "2021-09-03T18:03:55.525690",
     "status": "completed"
    },
    "tags": []
   },
   "outputs": [
    {
     "name": "stdout",
     "output_type": "stream",
     "text": [
      "The P value is  2.834465e-73"
     ]
    }
   ],
   "source": [
    "xh_data <- tidy_data %>% filter(Fuel_Type == \"Diesel\") %>% pull(as.numeric(Highway_MPG))\n",
    "yh_data <- tidy_data %>% filter(Fuel_Type == \"Gasoline or E85\") %>% pull(as.numeric(Highway_MPG))\n",
    "hway_test <- tidy(\n",
    "            t.test(x = xh_data, \n",
    "                   y = yh_data, \n",
    "                   alternative = \"two.sided\", conf.level = 0.9))\n",
    "\n",
    "cat(\"The P value is \", hway_test$p.value)"
   ]
  },
  {
   "cell_type": "code",
   "execution_count": 20,
   "id": "0b7c9c68",
   "metadata": {
    "execution": {
     "iopub.execute_input": "2021-09-03T18:03:55.747328Z",
     "iopub.status.busy": "2021-09-03T18:03:55.745717Z",
     "iopub.status.idle": "2021-09-03T18:03:55.768801Z",
     "shell.execute_reply": "2021-09-03T18:03:55.767257Z"
    },
    "papermill": {
     "duration": 0.089965,
     "end_time": "2021-09-03T18:03:55.768959",
     "exception": false,
     "start_time": "2021-09-03T18:03:55.678994",
     "status": "completed"
    },
    "tags": []
   },
   "outputs": [
    {
     "data": {
      "text/html": [
       "<table class=\"dataframe\">\n",
       "<caption>A tibble: 1 × 10</caption>\n",
       "<thead>\n",
       "\t<tr><th scope=col>estimate</th><th scope=col>estimate1</th><th scope=col>estimate2</th><th scope=col>statistic</th><th scope=col>p.value</th><th scope=col>parameter</th><th scope=col>conf.low</th><th scope=col>conf.high</th><th scope=col>method</th><th scope=col>alternative</th></tr>\n",
       "\t<tr><th scope=col>&lt;dbl&gt;</th><th scope=col>&lt;dbl&gt;</th><th scope=col>&lt;dbl&gt;</th><th scope=col>&lt;dbl&gt;</th><th scope=col>&lt;dbl&gt;</th><th scope=col>&lt;dbl&gt;</th><th scope=col>&lt;dbl&gt;</th><th scope=col>&lt;dbl&gt;</th><th scope=col>&lt;chr&gt;</th><th scope=col>&lt;chr&gt;</th></tr>\n",
       "</thead>\n",
       "<tbody>\n",
       "\t<tr><td>5.522511</td><td>27.13412</td><td>21.61161</td><td>19.08213</td><td>2.834465e-73</td><td>1593.575</td><td>5.046202</td><td>5.998821</td><td>Welch Two Sample t-test</td><td>two.sided</td></tr>\n",
       "</tbody>\n",
       "</table>\n"
      ],
      "text/latex": [
       "A tibble: 1 × 10\n",
       "\\begin{tabular}{llllllllll}\n",
       " estimate & estimate1 & estimate2 & statistic & p.value & parameter & conf.low & conf.high & method & alternative\\\\\n",
       " <dbl> & <dbl> & <dbl> & <dbl> & <dbl> & <dbl> & <dbl> & <dbl> & <chr> & <chr>\\\\\n",
       "\\hline\n",
       "\t 5.522511 & 27.13412 & 21.61161 & 19.08213 & 2.834465e-73 & 1593.575 & 5.046202 & 5.998821 & Welch Two Sample t-test & two.sided\\\\\n",
       "\\end{tabular}\n"
      ],
      "text/markdown": [
       "\n",
       "A tibble: 1 × 10\n",
       "\n",
       "| estimate &lt;dbl&gt; | estimate1 &lt;dbl&gt; | estimate2 &lt;dbl&gt; | statistic &lt;dbl&gt; | p.value &lt;dbl&gt; | parameter &lt;dbl&gt; | conf.low &lt;dbl&gt; | conf.high &lt;dbl&gt; | method &lt;chr&gt; | alternative &lt;chr&gt; |\n",
       "|---|---|---|---|---|---|---|---|---|---|\n",
       "| 5.522511 | 27.13412 | 21.61161 | 19.08213 | 2.834465e-73 | 1593.575 | 5.046202 | 5.998821 | Welch Two Sample t-test | two.sided |\n",
       "\n"
      ],
      "text/plain": [
       "  estimate estimate1 estimate2 statistic p.value      parameter conf.low\n",
       "1 5.522511 27.13412  21.61161  19.08213  2.834465e-73 1593.575  5.046202\n",
       "  conf.high method                  alternative\n",
       "1 5.998821  Welch Two Sample t-test two.sided  "
      ]
     },
     "metadata": {},
     "output_type": "display_data"
    }
   ],
   "source": [
    "hway_test"
   ]
  },
  {
   "cell_type": "markdown",
   "id": "cc23bc09",
   "metadata": {
    "papermill": {
     "duration": 0.062631,
     "end_time": "2021-09-03T18:03:55.894030",
     "exception": false,
     "start_time": "2021-09-03T18:03:55.831399",
     "status": "completed"
    },
    "tags": []
   },
   "source": [
    "Table 4.2: Summary of Two Sampled T Test for Highway MPG"
   ]
  },
  {
   "cell_type": "markdown",
   "id": "b6c865f2",
   "metadata": {
    "papermill": {
     "duration": 0.064477,
     "end_time": "2021-09-03T18:03:56.021017",
     "exception": false,
     "start_time": "2021-09-03T18:03:55.956540",
     "status": "completed"
    },
    "tags": []
   },
   "source": [
    "From the test conducted above,  we obtained a `p-value` that is lower than our significance level. Therefore, we have enough evidence to reject the null hypothesis and conclude that the difference in Highway's MPG means on diesel and gasoline are not the same.  "
   ]
  },
  {
   "cell_type": "markdown",
   "id": "5e14bf6d",
   "metadata": {
    "papermill": {
     "duration": 0.063139,
     "end_time": "2021-09-03T18:03:56.147459",
     "exception": false,
     "start_time": "2021-09-03T18:03:56.084320",
     "status": "completed"
    },
    "tags": []
   },
   "source": [
    "## 5. Confidence Intervals"
   ]
  },
  {
   "cell_type": "markdown",
   "id": "04bbe684",
   "metadata": {
    "papermill": {
     "duration": 0.061383,
     "end_time": "2021-09-03T18:03:56.271739",
     "exception": false,
     "start_time": "2021-09-03T18:03:56.210356",
     "status": "completed"
    },
    "tags": []
   },
   "source": [
    "In the previous section, we have proven through hypothesis testing that the MPG difference in means of diesel and gasoline based cars are different. But, to quantify how different these values are, we need to create a confidence interval that could estimate the actual difference in the efficiency of the cars."
   ]
  },
  {
   "cell_type": "markdown",
   "id": "11eae178",
   "metadata": {
    "papermill": {
     "duration": 0.061612,
     "end_time": "2021-09-03T18:03:56.395418",
     "exception": false,
     "start_time": "2021-09-03T18:03:56.333806",
     "status": "completed"
    },
    "tags": []
   },
   "source": [
    "### 5.1 90% Confidence Interval for City MPG"
   ]
  },
  {
   "cell_type": "markdown",
   "id": "f9aa577a",
   "metadata": {
    "papermill": {
     "duration": 0.061259,
     "end_time": "2021-09-03T18:03:56.518402",
     "exception": false,
     "start_time": "2021-09-03T18:03:56.457143",
     "status": "completed"
    },
    "tags": []
   },
   "source": [
    "We will use bootstrapping method to obtain a 90% confidence interval of the difference in means in City MPG, from 1000 bootstrap samples."
   ]
  },
  {
   "cell_type": "code",
   "execution_count": 21,
   "id": "398d746e",
   "metadata": {
    "execution": {
     "iopub.execute_input": "2021-09-03T18:03:56.654592Z",
     "iopub.status.busy": "2021-09-03T18:03:56.653049Z",
     "iopub.status.idle": "2021-09-03T18:03:57.597622Z",
     "shell.execute_reply": "2021-09-03T18:03:57.595875Z"
    },
    "papermill": {
     "duration": 1.012166,
     "end_time": "2021-09-03T18:03:57.597819",
     "exception": false,
     "start_time": "2021-09-03T18:03:56.585653",
     "status": "completed"
    },
    "tags": []
   },
   "outputs": [
    {
     "data": {
      "text/html": [
       "<table class=\"dataframe\">\n",
       "<caption>A tibble: 1 × 2</caption>\n",
       "<thead>\n",
       "\t<tr><th scope=col>lower_ci</th><th scope=col>upper_ci</th></tr>\n",
       "\t<tr><th scope=col>&lt;dbl&gt;</th><th scope=col>&lt;dbl&gt;</th></tr>\n",
       "</thead>\n",
       "<tbody>\n",
       "\t<tr><td>5.465412</td><td>6.180118</td></tr>\n",
       "</tbody>\n",
       "</table>\n"
      ],
      "text/latex": [
       "A tibble: 1 × 2\n",
       "\\begin{tabular}{ll}\n",
       " lower\\_ci & upper\\_ci\\\\\n",
       " <dbl> & <dbl>\\\\\n",
       "\\hline\n",
       "\t 5.465412 & 6.180118\\\\\n",
       "\\end{tabular}\n"
      ],
      "text/markdown": [
       "\n",
       "A tibble: 1 × 2\n",
       "\n",
       "| lower_ci &lt;dbl&gt; | upper_ci &lt;dbl&gt; |\n",
       "|---|---|\n",
       "| 5.465412 | 6.180118 |\n",
       "\n"
      ],
      "text/plain": [
       "  lower_ci upper_ci\n",
       "1 5.465412 6.180118"
      ]
     },
     "metadata": {},
     "output_type": "display_data"
    }
   ],
   "source": [
    "city_conf <- tidy_data %>%\n",
    "                specify(formula = City_MPG ~ Fuel_Type) %>%\n",
    "                generate(reps = 1000, type = \"bootstrap\") %>%\n",
    "                calculate(stat = \"diff in means\", order = c(\"Diesel\", \"Gasoline or E85\"))%>%\n",
    "                get_confidence_interval(level = 0.90, type = \"percentile\")\n",
    "city_conf\n"
   ]
  },
  {
   "cell_type": "markdown",
   "id": "873d6804",
   "metadata": {
    "papermill": {
     "duration": 0.061961,
     "end_time": "2021-09-03T18:03:57.723196",
     "exception": false,
     "start_time": "2021-09-03T18:03:57.661235",
     "status": "completed"
    },
    "tags": []
   },
   "source": [
    "As such, we are 90% confident that the difference in means between diesel and gasoline MPG in the city is between 5.470094 and 6.158715. This means that if we retake a sample from our sample, we would have a 90% chance that the difference in means between diesel and gasoline MPG in the city of the sample, is captured by the confidence interval.\n",
    "\n",
    "Recall that from Section 4.1, we obtained a confidence interval of (5.461427,6.170953) by using the two-sample-t-test. This is very similar to the confidence interval that we obtained here, which supports our results."
   ]
  },
  {
   "cell_type": "markdown",
   "id": "4fac8a97",
   "metadata": {
    "papermill": {
     "duration": 0.062254,
     "end_time": "2021-09-03T18:03:57.849099",
     "exception": false,
     "start_time": "2021-09-03T18:03:57.786845",
     "status": "completed"
    },
    "tags": []
   },
   "source": [
    "### 5.2 90% Confidence Interval for Highway MPG"
   ]
  },
  {
   "cell_type": "markdown",
   "id": "62d36495",
   "metadata": {
    "papermill": {
     "duration": 0.062015,
     "end_time": "2021-09-03T18:03:57.973902",
     "exception": false,
     "start_time": "2021-09-03T18:03:57.911887",
     "status": "completed"
    },
    "tags": []
   },
   "source": [
    "Again, we will repeat the bootstrapping method to obtain a 90% confidence interval of the difference in means in Highway MPG, from 1000 bootstrap samples."
   ]
  },
  {
   "cell_type": "code",
   "execution_count": 22,
   "id": "de19ac5c",
   "metadata": {
    "execution": {
     "iopub.execute_input": "2021-09-03T18:03:58.104784Z",
     "iopub.status.busy": "2021-09-03T18:03:58.103200Z",
     "iopub.status.idle": "2021-09-03T18:03:58.994219Z",
     "shell.execute_reply": "2021-09-03T18:03:58.992317Z"
    },
    "papermill": {
     "duration": 0.958365,
     "end_time": "2021-09-03T18:03:58.994400",
     "exception": false,
     "start_time": "2021-09-03T18:03:58.036035",
     "status": "completed"
    },
    "tags": []
   },
   "outputs": [
    {
     "data": {
      "text/html": [
       "<table class=\"dataframe\">\n",
       "<caption>A tibble: 1 × 2</caption>\n",
       "<thead>\n",
       "\t<tr><th scope=col>lower_ci</th><th scope=col>upper_ci</th></tr>\n",
       "\t<tr><th scope=col>&lt;dbl&gt;</th><th scope=col>&lt;dbl&gt;</th></tr>\n",
       "</thead>\n",
       "<tbody>\n",
       "\t<tr><td>5.070302</td><td>5.98932</td></tr>\n",
       "</tbody>\n",
       "</table>\n"
      ],
      "text/latex": [
       "A tibble: 1 × 2\n",
       "\\begin{tabular}{ll}\n",
       " lower\\_ci & upper\\_ci\\\\\n",
       " <dbl> & <dbl>\\\\\n",
       "\\hline\n",
       "\t 5.070302 & 5.98932\\\\\n",
       "\\end{tabular}\n"
      ],
      "text/markdown": [
       "\n",
       "A tibble: 1 × 2\n",
       "\n",
       "| lower_ci &lt;dbl&gt; | upper_ci &lt;dbl&gt; |\n",
       "|---|---|\n",
       "| 5.070302 | 5.98932 |\n",
       "\n"
      ],
      "text/plain": [
       "  lower_ci upper_ci\n",
       "1 5.070302 5.98932 "
      ]
     },
     "metadata": {},
     "output_type": "display_data"
    }
   ],
   "source": [
    "highway_conf <- tidy_data %>%\n",
    "                specify(formula = Highway_MPG ~ Fuel_Type) %>%\n",
    "                generate(reps = 1000, type = \"bootstrap\") %>%\n",
    "                calculate(stat = \"diff in means\", order = c(\"Diesel\", \"Gasoline or E85\"))%>%\n",
    "                get_confidence_interval(level = 0.90, type = \"percentile\")\n",
    "highway_conf\n"
   ]
  },
  {
   "cell_type": "markdown",
   "id": "1976f9e7",
   "metadata": {
    "papermill": {
     "duration": 0.064066,
     "end_time": "2021-09-03T18:03:59.122090",
     "exception": false,
     "start_time": "2021-09-03T18:03:59.058024",
     "status": "completed"
    },
    "tags": []
   },
   "source": [
    "As such, we are 90% confident that the difference in means between diesel and gasoline MPG on the highway is between 5.035987 and 6.028125. This means that if we retake a sample from our population, we would have a 90% chance that the difference in means between diesel and gasoline MPG on the highway of the sample, is captured by the confidence interval.\n",
    "\n",
    "Recall that from section 4.2, we obtained a confidence interval of (5.046202,5.998821) by using two sample-t-test. This is again very similar to the confidence interval we obtained here, which supports our results."
   ]
  },
  {
   "cell_type": "markdown",
   "id": "96ec6693",
   "metadata": {
    "papermill": {
     "duration": 0.063257,
     "end_time": "2021-09-03T18:03:59.249120",
     "exception": false,
     "start_time": "2021-09-03T18:03:59.185863",
     "status": "completed"
    },
    "tags": []
   },
   "source": [
    "## 7.  Results"
   ]
  },
  {
   "cell_type": "markdown",
   "id": "94769ea1",
   "metadata": {
    "papermill": {
     "duration": 0.062573,
     "end_time": "2021-09-03T18:03:59.375356",
     "exception": false,
     "start_time": "2021-09-03T18:03:59.312783",
     "status": "completed"
    },
    "tags": []
   },
   "source": [
    "From the results of our hypothesis tests, we have reported that for both the City and Highway MPG, the mean of Diesel and Gasoline-based cars are different. In addition, from our confidence intervals, we are 90% confident that the difference between the means is a positive value, which suggests that the mean of Diesel MPG is higher than the mean of Gasoline MPG. As such, we can conclude that the efficiency of Diesel-based cars outperforms the efficiency of Gasoline-based cars in both the city and the highway, which aligns with the results obtained by the Universal Technical Institute. \n",
    "\n",
    "These results were what we expected to find given our Preliminary Results, but our findings weren't concrete before performing the hypothesis tests (as the dataset is a sample, not the population). The hypothesis tests and confidence intervals simply confirmed our initial observations. These findings would suggest buyers to purchase a diesel-based car over a gasoline-based car, but with that being said, our findings are very limited to the car brands and the year of manufacture between 1984-2017, as our findings were based on a sample. The investigation can be repeated using more brands and newer models to expand the scope of our claim. "
   ]
  },
  {
   "cell_type": "markdown",
   "id": "ce4c5398",
   "metadata": {
    "papermill": {
     "duration": 0.062677,
     "end_time": "2021-09-03T18:03:59.500609",
     "exception": false,
     "start_time": "2021-09-03T18:03:59.437932",
     "status": "completed"
    },
    "tags": []
   },
   "source": [
    "## 8. References \n",
    "Baures, L. (2019, July 16). Pickup Trucks: Gas vs Diesel. Trusted Auto Professionals. https://tap.fremontmotors.com/pickup-trucks-gas-vs-diesel/\n",
    "\n",
    "Chevrolet, S. (2021, March 10). What Is the Difference Between Diesel and Gas? Sweeney\tChevrolet. https://www.sweeneychevrolet.com/blog/what-is-the-difference-between-diesel-and-gas/\n",
    "\n",
    "Gas vs. Diesel Engines: What’s the Difference? (2021). UTI Corporate. https://www.uti.edu/blog/diesel/gas-vs-diesel-engines"
   ]
  },
  {
   "cell_type": "code",
   "execution_count": null,
   "id": "179aed17",
   "metadata": {
    "papermill": {
     "duration": 0.062865,
     "end_time": "2021-09-03T18:03:59.626454",
     "exception": false,
     "start_time": "2021-09-03T18:03:59.563589",
     "status": "completed"
    },
    "tags": []
   },
   "outputs": [],
   "source": []
  }
 ],
 "metadata": {
  "kernelspec": {
   "display_name": "R",
   "language": "R",
   "name": "ir"
  },
  "language_info": {
   "codemirror_mode": "r",
   "file_extension": ".r",
   "mimetype": "text/x-r-source",
   "name": "R",
   "pygments_lexer": "r",
   "version": "4.0.5"
  },
  "papermill": {
   "default_parameters": {},
   "duration": 21.014803,
   "end_time": "2021-09-03T18:03:59.800426",
   "environment_variables": {},
   "exception": null,
   "input_path": "__notebook__.ipynb",
   "output_path": "__notebook__.ipynb",
   "parameters": {},
   "start_time": "2021-09-03T18:03:38.785623",
   "version": "2.3.3"
  }
 },
 "nbformat": 4,
 "nbformat_minor": 5
}
